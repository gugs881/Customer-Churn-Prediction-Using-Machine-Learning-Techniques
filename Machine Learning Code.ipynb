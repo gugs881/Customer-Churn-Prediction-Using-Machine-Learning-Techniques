{
 "cells": [
  {
   "cell_type": "code",
   "execution_count": 1,
   "id": "3a1a87ee",
   "metadata": {
    "_cell_guid": "b1076dfc-b9ad-4769-8c92-a6c4dae69d19",
    "_uuid": "8f2839f25d086af736a60e9eeb907d3b93b6e0e5",
    "execution": {
     "iopub.execute_input": "2024-06-17T11:55:39.839986Z",
     "iopub.status.busy": "2024-06-17T11:55:39.839606Z",
     "iopub.status.idle": "2024-06-17T11:55:42.162363Z",
     "shell.execute_reply": "2024-06-17T11:55:42.161208Z"
    },
    "papermill": {
     "duration": 2.338897,
     "end_time": "2024-06-17T11:55:42.164977",
     "exception": false,
     "start_time": "2024-06-17T11:55:39.826080",
     "status": "completed"
    },
    "tags": []
   },
   "outputs": [],
   "source": [
    "# Importar bibliotecas\n",
    "import pandas as pd\n",
    "import numpy as np\n",
    "import matplotlib.pyplot as plt\n",
    "import seaborn as sns\n",
    "import statistics as sts"
   ]
  },
  {
   "cell_type": "code",
   "execution_count": 2,
   "id": "bf8ad748",
   "metadata": {
    "execution": {
     "iopub.execute_input": "2024-06-17T11:55:42.190286Z",
     "iopub.status.busy": "2024-06-17T11:55:42.189773Z",
     "iopub.status.idle": "2024-06-17T11:55:42.265285Z",
     "shell.execute_reply": "2024-06-17T11:55:42.264318Z"
    },
    "papermill": {
     "duration": 0.091095,
     "end_time": "2024-06-17T11:55:42.267945",
     "exception": false,
     "start_time": "2024-06-17T11:55:42.176850",
     "status": "completed"
    },
    "tags": []
   },
   "outputs": [],
   "source": [
    "# Ler o arquivo\n",
    "df_train = pd.read_csv('/kaggle/input/aprendizado-de-mquina-20241-predio-de-churn/train_churn_.csv', sep = ';')\n",
    "df_test = pd.read_csv('/kaggle/input/aprendizado-de-mquina-20241-predio-de-churn/test_churn_.csv')\n",
    "sample_submission = pd.read_csv('/kaggle/input/aprendizado-de-mquina-20241-predio-de-churn/sample_submission_.csv')"
   ]
  },
  {
   "cell_type": "code",
   "execution_count": 3,
   "id": "2facfea5",
   "metadata": {
    "execution": {
     "iopub.execute_input": "2024-06-17T11:55:42.293053Z",
     "iopub.status.busy": "2024-06-17T11:55:42.292696Z",
     "iopub.status.idle": "2024-06-17T11:55:42.334704Z",
     "shell.execute_reply": "2024-06-17T11:55:42.333458Z"
    },
    "papermill": {
     "duration": 0.057303,
     "end_time": "2024-06-17T11:55:42.337145",
     "exception": false,
     "start_time": "2024-06-17T11:55:42.279842",
     "status": "completed"
    },
    "tags": []
   },
   "outputs": [
    {
     "data": {
      "text/html": [
       "<div>\n",
       "<style scoped>\n",
       "    .dataframe tbody tr th:only-of-type {\n",
       "        vertical-align: middle;\n",
       "    }\n",
       "\n",
       "    .dataframe tbody tr th {\n",
       "        vertical-align: top;\n",
       "    }\n",
       "\n",
       "    .dataframe thead th {\n",
       "        text-align: right;\n",
       "    }\n",
       "</style>\n",
       "<table border=\"1\" class=\"dataframe\">\n",
       "  <thead>\n",
       "    <tr style=\"text-align: right;\">\n",
       "      <th></th>\n",
       "      <th>Unnamed: 0</th>\n",
       "      <th>genero</th>\n",
       "      <th>idoso</th>\n",
       "      <th>parceiro</th>\n",
       "      <th>dependentes</th>\n",
       "      <th>tempoDeServico</th>\n",
       "      <th>ServicoTelefone</th>\n",
       "      <th>MultiLinhas</th>\n",
       "      <th>ServicoInternet</th>\n",
       "      <th>ServicoSegurancaCyber</th>\n",
       "      <th>...</th>\n",
       "      <th>StreamingTV</th>\n",
       "      <th>StreamingFilmes</th>\n",
       "      <th>Contrato</th>\n",
       "      <th>BillingDigital</th>\n",
       "      <th>MetodoPagamento</th>\n",
       "      <th>FaturaMensal</th>\n",
       "      <th>FaturaTotal</th>\n",
       "      <th>NumTickets</th>\n",
       "      <th>NumTicketsTecnico</th>\n",
       "      <th>Churn</th>\n",
       "    </tr>\n",
       "  </thead>\n",
       "  <tbody>\n",
       "    <tr>\n",
       "      <th>0</th>\n",
       "      <td>6027</td>\n",
       "      <td>Masculino</td>\n",
       "      <td>0.0</td>\n",
       "      <td>Sim</td>\n",
       "      <td>Sim</td>\n",
       "      <td>35.0</td>\n",
       "      <td>Sim</td>\n",
       "      <td>Sim</td>\n",
       "      <td>Não</td>\n",
       "      <td>Sem serviço de internet</td>\n",
       "      <td>...</td>\n",
       "      <td>Sem serviço de internet</td>\n",
       "      <td>Sem serviço de internet</td>\n",
       "      <td>2 Anos</td>\n",
       "      <td>Não</td>\n",
       "      <td>Transferência Bancária (Automática)</td>\n",
       "      <td>25.45</td>\n",
       "      <td>809.25</td>\n",
       "      <td>0.0</td>\n",
       "      <td>0.0</td>\n",
       "      <td>0.0</td>\n",
       "    </tr>\n",
       "    <tr>\n",
       "      <th>1</th>\n",
       "      <td>1961</td>\n",
       "      <td>Feminino</td>\n",
       "      <td>0.0</td>\n",
       "      <td>Não</td>\n",
       "      <td>Não</td>\n",
       "      <td>42.0</td>\n",
       "      <td>Sim</td>\n",
       "      <td>Sim</td>\n",
       "      <td>DSL</td>\n",
       "      <td>NaN</td>\n",
       "      <td>...</td>\n",
       "      <td>Não</td>\n",
       "      <td>Não</td>\n",
       "      <td>1 Ano</td>\n",
       "      <td>Sim</td>\n",
       "      <td>Transferência Bancária (Automática)</td>\n",
       "      <td>60.15</td>\n",
       "      <td>2421.6</td>\n",
       "      <td>0.0</td>\n",
       "      <td>0.0</td>\n",
       "      <td>0.0</td>\n",
       "    </tr>\n",
       "    <tr>\n",
       "      <th>2</th>\n",
       "      <td>5308</td>\n",
       "      <td>Feminino</td>\n",
       "      <td>0.0</td>\n",
       "      <td>Não</td>\n",
       "      <td>Não</td>\n",
       "      <td>69.0</td>\n",
       "      <td>Sim</td>\n",
       "      <td>Não</td>\n",
       "      <td>DSL</td>\n",
       "      <td>Sim</td>\n",
       "      <td>...</td>\n",
       "      <td>Sim</td>\n",
       "      <td>Sim</td>\n",
       "      <td>2 Anos</td>\n",
       "      <td>Sim</td>\n",
       "      <td>Cartão de Crédito (Automático)</td>\n",
       "      <td>82.45</td>\n",
       "      <td>5555.3</td>\n",
       "      <td>0.0</td>\n",
       "      <td>0.0</td>\n",
       "      <td>0.0</td>\n",
       "    </tr>\n",
       "    <tr>\n",
       "      <th>3</th>\n",
       "      <td>3587</td>\n",
       "      <td>Masculino</td>\n",
       "      <td>1.0</td>\n",
       "      <td>Não</td>\n",
       "      <td>Não</td>\n",
       "      <td>9.0</td>\n",
       "      <td>Sim</td>\n",
       "      <td>NaN</td>\n",
       "      <td>Fibra óptica</td>\n",
       "      <td>Não</td>\n",
       "      <td>...</td>\n",
       "      <td>Sim</td>\n",
       "      <td>Sim</td>\n",
       "      <td>Mensal</td>\n",
       "      <td>Sim</td>\n",
       "      <td>Cartão de Crédito (Automático)</td>\n",
       "      <td>99.45</td>\n",
       "      <td>919.4</td>\n",
       "      <td>0.0</td>\n",
       "      <td>0.0</td>\n",
       "      <td>1.0</td>\n",
       "    </tr>\n",
       "    <tr>\n",
       "      <th>4</th>\n",
       "      <td>576</td>\n",
       "      <td>Masculino</td>\n",
       "      <td>0.0</td>\n",
       "      <td>Sim</td>\n",
       "      <td>Sim</td>\n",
       "      <td>31.0</td>\n",
       "      <td>Sim</td>\n",
       "      <td>Sim</td>\n",
       "      <td>Fibra óptica</td>\n",
       "      <td>Sim</td>\n",
       "      <td>...</td>\n",
       "      <td>Sim</td>\n",
       "      <td>Não</td>\n",
       "      <td>1 Ano</td>\n",
       "      <td>Não</td>\n",
       "      <td>Transferência Bancária (Automática)</td>\n",
       "      <td>98.05</td>\n",
       "      <td>3082.1</td>\n",
       "      <td>NaN</td>\n",
       "      <td>0.0</td>\n",
       "      <td>0.0</td>\n",
       "    </tr>\n",
       "  </tbody>\n",
       "</table>\n",
       "<p>5 rows × 23 columns</p>\n",
       "</div>"
      ],
      "text/plain": [
       "   Unnamed: 0     genero  idoso parceiro dependentes  tempoDeServico  \\\n",
       "0        6027  Masculino    0.0      Sim         Sim            35.0   \n",
       "1        1961   Feminino    0.0      Não         Não            42.0   \n",
       "2        5308   Feminino    0.0      Não         Não            69.0   \n",
       "3        3587  Masculino    1.0      Não         Não             9.0   \n",
       "4         576  Masculino    0.0      Sim         Sim            31.0   \n",
       "\n",
       "  ServicoTelefone MultiLinhas ServicoInternet    ServicoSegurancaCyber  ...  \\\n",
       "0             Sim         Sim             Não  Sem serviço de internet  ...   \n",
       "1             Sim         Sim             DSL                      NaN  ...   \n",
       "2             Sim         Não             DSL                      Sim  ...   \n",
       "3             Sim         NaN    Fibra óptica                      Não  ...   \n",
       "4             Sim         Sim    Fibra óptica                      Sim  ...   \n",
       "\n",
       "               StreamingTV          StreamingFilmes Contrato BillingDigital  \\\n",
       "0  Sem serviço de internet  Sem serviço de internet   2 Anos            Não   \n",
       "1                      Não                      Não    1 Ano            Sim   \n",
       "2                      Sim                      Sim   2 Anos            Sim   \n",
       "3                      Sim                      Sim   Mensal            Sim   \n",
       "4                      Sim                      Não    1 Ano            Não   \n",
       "\n",
       "                       MetodoPagamento FaturaMensal FaturaTotal NumTickets  \\\n",
       "0  Transferência Bancária (Automática)        25.45      809.25        0.0   \n",
       "1  Transferência Bancária (Automática)        60.15      2421.6        0.0   \n",
       "2       Cartão de Crédito (Automático)        82.45      5555.3        0.0   \n",
       "3       Cartão de Crédito (Automático)        99.45       919.4        0.0   \n",
       "4  Transferência Bancária (Automática)        98.05      3082.1        NaN   \n",
       "\n",
       "   NumTicketsTecnico Churn  \n",
       "0                0.0   0.0  \n",
       "1                0.0   0.0  \n",
       "2                0.0   0.0  \n",
       "3                0.0   1.0  \n",
       "4                0.0   0.0  \n",
       "\n",
       "[5 rows x 23 columns]"
      ]
     },
     "execution_count": 3,
     "metadata": {},
     "output_type": "execute_result"
    }
   ],
   "source": [
    "df_train.head()"
   ]
  },
  {
   "cell_type": "code",
   "execution_count": 4,
   "id": "453b0258",
   "metadata": {
    "execution": {
     "iopub.execute_input": "2024-06-17T11:55:42.364666Z",
     "iopub.status.busy": "2024-06-17T11:55:42.363311Z",
     "iopub.status.idle": "2024-06-17T11:55:42.388976Z",
     "shell.execute_reply": "2024-06-17T11:55:42.387807Z"
    },
    "papermill": {
     "duration": 0.042145,
     "end_time": "2024-06-17T11:55:42.391329",
     "exception": false,
     "start_time": "2024-06-17T11:55:42.349184",
     "status": "completed"
    },
    "tags": []
   },
   "outputs": [
    {
     "data": {
      "text/html": [
       "<div>\n",
       "<style scoped>\n",
       "    .dataframe tbody tr th:only-of-type {\n",
       "        vertical-align: middle;\n",
       "    }\n",
       "\n",
       "    .dataframe tbody tr th {\n",
       "        vertical-align: top;\n",
       "    }\n",
       "\n",
       "    .dataframe thead th {\n",
       "        text-align: right;\n",
       "    }\n",
       "</style>\n",
       "<table border=\"1\" class=\"dataframe\">\n",
       "  <thead>\n",
       "    <tr style=\"text-align: right;\">\n",
       "      <th></th>\n",
       "      <th>index</th>\n",
       "      <th>Unnamed: 0</th>\n",
       "      <th>genero</th>\n",
       "      <th>idoso</th>\n",
       "      <th>parceiro</th>\n",
       "      <th>dependentes</th>\n",
       "      <th>tempoDeServico</th>\n",
       "      <th>ServicoTelefone</th>\n",
       "      <th>MultiLinhas</th>\n",
       "      <th>ServicoInternet</th>\n",
       "      <th>...</th>\n",
       "      <th>ServicoSuporteTecnico</th>\n",
       "      <th>StreamingTV</th>\n",
       "      <th>StreamingFilmes</th>\n",
       "      <th>Contrato</th>\n",
       "      <th>BillingDigital</th>\n",
       "      <th>MetodoPagamento</th>\n",
       "      <th>FaturaMensal</th>\n",
       "      <th>FaturaTotal</th>\n",
       "      <th>NumTickets</th>\n",
       "      <th>NumTicketsTecnico</th>\n",
       "    </tr>\n",
       "  </thead>\n",
       "  <tbody>\n",
       "    <tr>\n",
       "      <th>0</th>\n",
       "      <td>0</td>\n",
       "      <td>2450</td>\n",
       "      <td>Feminino</td>\n",
       "      <td>0.0</td>\n",
       "      <td>Sim</td>\n",
       "      <td>Sim</td>\n",
       "      <td>72.0</td>\n",
       "      <td>Sim</td>\n",
       "      <td>Sim</td>\n",
       "      <td>Fibra óptica</td>\n",
       "      <td>...</td>\n",
       "      <td>Sim</td>\n",
       "      <td>Sim</td>\n",
       "      <td>Sim</td>\n",
       "      <td>2 Anos</td>\n",
       "      <td>Sim</td>\n",
       "      <td>Transferência Bancária (Automática)</td>\n",
       "      <td>110.45</td>\n",
       "      <td>8058.85</td>\n",
       "      <td>0.0</td>\n",
       "      <td>0.0</td>\n",
       "    </tr>\n",
       "    <tr>\n",
       "      <th>1</th>\n",
       "      <td>1</td>\n",
       "      <td>4649</td>\n",
       "      <td>Masculino</td>\n",
       "      <td>0.0</td>\n",
       "      <td>Sim</td>\n",
       "      <td>Não</td>\n",
       "      <td>72.0</td>\n",
       "      <td>Sim</td>\n",
       "      <td>Sim</td>\n",
       "      <td>Fibra óptica</td>\n",
       "      <td>...</td>\n",
       "      <td>Sim</td>\n",
       "      <td>Sim</td>\n",
       "      <td>Sim</td>\n",
       "      <td>2 Anos</td>\n",
       "      <td>Sim</td>\n",
       "      <td>Cartão de Crédito (Automático)</td>\n",
       "      <td>108.95</td>\n",
       "      <td>NaN</td>\n",
       "      <td>5.0</td>\n",
       "      <td>5.0</td>\n",
       "    </tr>\n",
       "    <tr>\n",
       "      <th>2</th>\n",
       "      <td>2</td>\n",
       "      <td>1237</td>\n",
       "      <td>Masculino</td>\n",
       "      <td>0.0</td>\n",
       "      <td>Não</td>\n",
       "      <td>NaN</td>\n",
       "      <td>13.0</td>\n",
       "      <td>Sim</td>\n",
       "      <td>Não</td>\n",
       "      <td>Não</td>\n",
       "      <td>...</td>\n",
       "      <td>Sem serviço de internet</td>\n",
       "      <td>Sem serviço de internet</td>\n",
       "      <td>Sem serviço de internet</td>\n",
       "      <td>1 Ano</td>\n",
       "      <td>Não</td>\n",
       "      <td>Cheque por Carta</td>\n",
       "      <td>19.45</td>\n",
       "      <td>NaN</td>\n",
       "      <td>0.0</td>\n",
       "      <td>0.0</td>\n",
       "    </tr>\n",
       "    <tr>\n",
       "      <th>3</th>\n",
       "      <td>3</td>\n",
       "      <td>4415</td>\n",
       "      <td>Masculino</td>\n",
       "      <td>0.0</td>\n",
       "      <td>Sim</td>\n",
       "      <td>NaN</td>\n",
       "      <td>22.0</td>\n",
       "      <td>Sim</td>\n",
       "      <td>NaN</td>\n",
       "      <td>DSL</td>\n",
       "      <td>...</td>\n",
       "      <td>Não</td>\n",
       "      <td>Não</td>\n",
       "      <td>Não</td>\n",
       "      <td>2 Anos</td>\n",
       "      <td>Sim</td>\n",
       "      <td>Cartão de Crédito (Automático)</td>\n",
       "      <td>66.10</td>\n",
       "      <td>4428.45</td>\n",
       "      <td>NaN</td>\n",
       "      <td>0.0</td>\n",
       "    </tr>\n",
       "    <tr>\n",
       "      <th>4</th>\n",
       "      <td>4</td>\n",
       "      <td>6697</td>\n",
       "      <td>Feminino</td>\n",
       "      <td>0.0</td>\n",
       "      <td>Não</td>\n",
       "      <td>Não</td>\n",
       "      <td>NaN</td>\n",
       "      <td>Sim</td>\n",
       "      <td>Sim</td>\n",
       "      <td>DSL</td>\n",
       "      <td>...</td>\n",
       "      <td>Não</td>\n",
       "      <td>NaN</td>\n",
       "      <td>NaN</td>\n",
       "      <td>1 Ano</td>\n",
       "      <td>Sim</td>\n",
       "      <td>Cartão de Crédito (Automático)</td>\n",
       "      <td>79.30</td>\n",
       "      <td>2427.10</td>\n",
       "      <td>0.0</td>\n",
       "      <td>1.0</td>\n",
       "    </tr>\n",
       "  </tbody>\n",
       "</table>\n",
       "<p>5 rows × 23 columns</p>\n",
       "</div>"
      ],
      "text/plain": [
       "   index  Unnamed: 0     genero  idoso parceiro dependentes  tempoDeServico  \\\n",
       "0      0        2450   Feminino    0.0      Sim         Sim            72.0   \n",
       "1      1        4649  Masculino    0.0      Sim         Não            72.0   \n",
       "2      2        1237  Masculino    0.0      Não         NaN            13.0   \n",
       "3      3        4415  Masculino    0.0      Sim         NaN            22.0   \n",
       "4      4        6697   Feminino    0.0      Não         Não             NaN   \n",
       "\n",
       "  ServicoTelefone MultiLinhas ServicoInternet  ...    ServicoSuporteTecnico  \\\n",
       "0             Sim         Sim    Fibra óptica  ...                      Sim   \n",
       "1             Sim         Sim    Fibra óptica  ...                      Sim   \n",
       "2             Sim         Não             Não  ...  Sem serviço de internet   \n",
       "3             Sim         NaN             DSL  ...                      Não   \n",
       "4             Sim         Sim             DSL  ...                      Não   \n",
       "\n",
       "               StreamingTV          StreamingFilmes Contrato BillingDigital  \\\n",
       "0                      Sim                      Sim   2 Anos            Sim   \n",
       "1                      Sim                      Sim   2 Anos            Sim   \n",
       "2  Sem serviço de internet  Sem serviço de internet    1 Ano            Não   \n",
       "3                      Não                      Não   2 Anos            Sim   \n",
       "4                      NaN                      NaN    1 Ano            Sim   \n",
       "\n",
       "                       MetodoPagamento FaturaMensal FaturaTotal NumTickets  \\\n",
       "0  Transferência Bancária (Automática)       110.45     8058.85        0.0   \n",
       "1       Cartão de Crédito (Automático)       108.95         NaN        5.0   \n",
       "2                     Cheque por Carta        19.45         NaN        0.0   \n",
       "3       Cartão de Crédito (Automático)        66.10     4428.45        NaN   \n",
       "4       Cartão de Crédito (Automático)        79.30     2427.10        0.0   \n",
       "\n",
       "   NumTicketsTecnico  \n",
       "0                0.0  \n",
       "1                5.0  \n",
       "2                0.0  \n",
       "3                0.0  \n",
       "4                1.0  \n",
       "\n",
       "[5 rows x 23 columns]"
      ]
     },
     "execution_count": 4,
     "metadata": {},
     "output_type": "execute_result"
    }
   ],
   "source": [
    "df_test.head()"
   ]
  },
  {
   "cell_type": "code",
   "execution_count": 5,
   "id": "1ca3ea23",
   "metadata": {
    "execution": {
     "iopub.execute_input": "2024-06-17T11:55:42.418420Z",
     "iopub.status.busy": "2024-06-17T11:55:42.418024Z",
     "iopub.status.idle": "2024-06-17T11:55:42.426122Z",
     "shell.execute_reply": "2024-06-17T11:55:42.424985Z"
    },
    "papermill": {
     "duration": 0.024707,
     "end_time": "2024-06-17T11:55:42.428482",
     "exception": false,
     "start_time": "2024-06-17T11:55:42.403775",
     "status": "completed"
    },
    "tags": []
   },
   "outputs": [],
   "source": [
    "# Apagar a primeira coluna\n",
    "df_train = df_train.drop('Unnamed: 0', axis = 1)\n",
    "df_test = df_test.drop(['index','Unnamed: 0'], axis = 1)"
   ]
  },
  {
   "cell_type": "code",
   "execution_count": 6,
   "id": "a59ba89a",
   "metadata": {
    "execution": {
     "iopub.execute_input": "2024-06-17T11:55:42.455172Z",
     "iopub.status.busy": "2024-06-17T11:55:42.454803Z",
     "iopub.status.idle": "2024-06-17T11:55:42.461684Z",
     "shell.execute_reply": "2024-06-17T11:55:42.460686Z"
    },
    "papermill": {
     "duration": 0.022927,
     "end_time": "2024-06-17T11:55:42.463916",
     "exception": false,
     "start_time": "2024-06-17T11:55:42.440989",
     "status": "completed"
    },
    "tags": []
   },
   "outputs": [
    {
     "data": {
      "text/plain": [
       "((5000, 22), (1942, 21))"
      ]
     },
     "execution_count": 6,
     "metadata": {},
     "output_type": "execute_result"
    }
   ],
   "source": [
    "# Tamanho da base\n",
    "df_train.shape , df_test.shape"
   ]
  },
  {
   "cell_type": "code",
   "execution_count": 7,
   "id": "6b99a828",
   "metadata": {
    "execution": {
     "iopub.execute_input": "2024-06-17T11:55:42.491575Z",
     "iopub.status.busy": "2024-06-17T11:55:42.490740Z",
     "iopub.status.idle": "2024-06-17T11:55:42.516648Z",
     "shell.execute_reply": "2024-06-17T11:55:42.515432Z"
    },
    "papermill": {
     "duration": 0.042501,
     "end_time": "2024-06-17T11:55:42.519213",
     "exception": false,
     "start_time": "2024-06-17T11:55:42.476712",
     "status": "completed"
    },
    "tags": []
   },
   "outputs": [
    {
     "name": "stdout",
     "output_type": "stream",
     "text": [
      "<class 'pandas.core.frame.DataFrame'>\n",
      "RangeIndex: 5000 entries, 0 to 4999\n",
      "Data columns (total 22 columns):\n",
      " #   Column                 Non-Null Count  Dtype  \n",
      "---  ------                 --------------  -----  \n",
      " 0   genero                 4759 non-null   object \n",
      " 1   idoso                  4735 non-null   float64\n",
      " 2   parceiro               4762 non-null   object \n",
      " 3   dependentes            4766 non-null   object \n",
      " 4   tempoDeServico         4747 non-null   float64\n",
      " 5   ServicoTelefone        4789 non-null   object \n",
      " 6   MultiLinhas            4745 non-null   object \n",
      " 7   ServicoInternet        4771 non-null   object \n",
      " 8   ServicoSegurancaCyber  4778 non-null   object \n",
      " 9   ServicoBackup          4737 non-null   object \n",
      " 10  SeguroDispositivos     4750 non-null   object \n",
      " 11  ServicoSuporteTecnico  4767 non-null   object \n",
      " 12  StreamingTV            4751 non-null   object \n",
      " 13  StreamingFilmes        4775 non-null   object \n",
      " 14  Contrato               4738 non-null   object \n",
      " 15  BillingDigital         4762 non-null   object \n",
      " 16  MetodoPagamento        4756 non-null   object \n",
      " 17  FaturaMensal           4726 non-null   float64\n",
      " 18  FaturaTotal            4762 non-null   object \n",
      " 19  NumTickets             4731 non-null   float64\n",
      " 20  NumTicketsTecnico      4745 non-null   float64\n",
      " 21  Churn                  4736 non-null   float64\n",
      "dtypes: float64(6), object(16)\n",
      "memory usage: 859.5+ KB\n"
     ]
    }
   ],
   "source": [
    "# Tipos das colunas\n",
    "df_train.info()"
   ]
  },
  {
   "cell_type": "code",
   "execution_count": 8,
   "id": "bfcfe383",
   "metadata": {
    "execution": {
     "iopub.execute_input": "2024-06-17T11:55:42.546677Z",
     "iopub.status.busy": "2024-06-17T11:55:42.546222Z",
     "iopub.status.idle": "2024-06-17T11:55:42.559744Z",
     "shell.execute_reply": "2024-06-17T11:55:42.558531Z"
    },
    "papermill": {
     "duration": 0.030417,
     "end_time": "2024-06-17T11:55:42.562429",
     "exception": false,
     "start_time": "2024-06-17T11:55:42.532012",
     "status": "completed"
    },
    "tags": []
   },
   "outputs": [
    {
     "name": "stdout",
     "output_type": "stream",
     "text": [
      "<class 'pandas.core.frame.DataFrame'>\n",
      "RangeIndex: 1942 entries, 0 to 1941\n",
      "Data columns (total 21 columns):\n",
      " #   Column                 Non-Null Count  Dtype  \n",
      "---  ------                 --------------  -----  \n",
      " 0   genero                 1863 non-null   object \n",
      " 1   idoso                  1852 non-null   float64\n",
      " 2   parceiro               1842 non-null   object \n",
      " 3   dependentes            1841 non-null   object \n",
      " 4   tempoDeServico         1848 non-null   float64\n",
      " 5   ServicoTelefone        1839 non-null   object \n",
      " 6   MultiLinhas            1829 non-null   object \n",
      " 7   ServicoInternet        1844 non-null   object \n",
      " 8   ServicoSegurancaCyber  1842 non-null   object \n",
      " 9   ServicoBackup          1842 non-null   object \n",
      " 10  SeguroDispositivos     1833 non-null   object \n",
      " 11  ServicoSuporteTecnico  1839 non-null   object \n",
      " 12  StreamingTV            1844 non-null   object \n",
      " 13  StreamingFilmes        1842 non-null   object \n",
      " 14  Contrato               1832 non-null   object \n",
      " 15  BillingDigital         1850 non-null   object \n",
      " 16  MetodoPagamento        1856 non-null   object \n",
      " 17  FaturaMensal           1842 non-null   float64\n",
      " 18  FaturaTotal            1841 non-null   float64\n",
      " 19  NumTickets             1856 non-null   float64\n",
      " 20  NumTicketsTecnico      1845 non-null   float64\n",
      "dtypes: float64(6), object(15)\n",
      "memory usage: 318.7+ KB\n"
     ]
    }
   ],
   "source": [
    "df_test.info()"
   ]
  },
  {
   "cell_type": "code",
   "execution_count": 9,
   "id": "611b9029",
   "metadata": {
    "execution": {
     "iopub.execute_input": "2024-06-17T11:55:42.590579Z",
     "iopub.status.busy": "2024-06-17T11:55:42.590155Z",
     "iopub.status.idle": "2024-06-17T11:55:42.598030Z",
     "shell.execute_reply": "2024-06-17T11:55:42.597064Z"
    },
    "papermill": {
     "duration": 0.024248,
     "end_time": "2024-06-17T11:55:42.600170",
     "exception": false,
     "start_time": "2024-06-17T11:55:42.575922",
     "status": "completed"
    },
    "tags": []
   },
   "outputs": [],
   "source": [
    "# Converter a coluna para float\n",
    "df_train['FaturaTotal'] = pd.to_numeric(df_train['FaturaTotal'], errors='coerce')"
   ]
  },
  {
   "cell_type": "code",
   "execution_count": 10,
   "id": "5b46d109",
   "metadata": {
    "execution": {
     "iopub.execute_input": "2024-06-17T11:55:42.628218Z",
     "iopub.status.busy": "2024-06-17T11:55:42.627848Z",
     "iopub.status.idle": "2024-06-17T11:55:42.640997Z",
     "shell.execute_reply": "2024-06-17T11:55:42.639540Z"
    },
    "papermill": {
     "duration": 0.029727,
     "end_time": "2024-06-17T11:55:42.643177",
     "exception": false,
     "start_time": "2024-06-17T11:55:42.613450",
     "status": "completed"
    },
    "tags": []
   },
   "outputs": [
    {
     "data": {
      "text/plain": [
       "genero                   241\n",
       "idoso                    265\n",
       "parceiro                 238\n",
       "dependentes              234\n",
       "tempoDeServico           253\n",
       "ServicoTelefone          211\n",
       "MultiLinhas              255\n",
       "ServicoInternet          229\n",
       "ServicoSegurancaCyber    222\n",
       "ServicoBackup            263\n",
       "SeguroDispositivos       250\n",
       "ServicoSuporteTecnico    233\n",
       "StreamingTV              249\n",
       "StreamingFilmes          225\n",
       "Contrato                 262\n",
       "BillingDigital           238\n",
       "MetodoPagamento          244\n",
       "FaturaMensal             274\n",
       "FaturaTotal              247\n",
       "NumTickets               269\n",
       "NumTicketsTecnico        255\n",
       "Churn                    264\n",
       "dtype: int64"
      ]
     },
     "execution_count": 10,
     "metadata": {},
     "output_type": "execute_result"
    }
   ],
   "source": [
    "# Verificando valores nulos\n",
    "df_train.isna().sum()"
   ]
  },
  {
   "cell_type": "code",
   "execution_count": 11,
   "id": "d1f4761c",
   "metadata": {
    "execution": {
     "iopub.execute_input": "2024-06-17T11:55:42.672816Z",
     "iopub.status.busy": "2024-06-17T11:55:42.672084Z",
     "iopub.status.idle": "2024-06-17T11:55:42.683253Z",
     "shell.execute_reply": "2024-06-17T11:55:42.682087Z"
    },
    "papermill": {
     "duration": 0.029068,
     "end_time": "2024-06-17T11:55:42.685691",
     "exception": false,
     "start_time": "2024-06-17T11:55:42.656623",
     "status": "completed"
    },
    "tags": []
   },
   "outputs": [
    {
     "data": {
      "text/plain": [
       "genero                    79\n",
       "idoso                     90\n",
       "parceiro                 100\n",
       "dependentes              101\n",
       "tempoDeServico            94\n",
       "ServicoTelefone          103\n",
       "MultiLinhas              113\n",
       "ServicoInternet           98\n",
       "ServicoSegurancaCyber    100\n",
       "ServicoBackup            100\n",
       "SeguroDispositivos       109\n",
       "ServicoSuporteTecnico    103\n",
       "StreamingTV               98\n",
       "StreamingFilmes          100\n",
       "Contrato                 110\n",
       "BillingDigital            92\n",
       "MetodoPagamento           86\n",
       "FaturaMensal             100\n",
       "FaturaTotal              101\n",
       "NumTickets                86\n",
       "NumTicketsTecnico         97\n",
       "dtype: int64"
      ]
     },
     "execution_count": 11,
     "metadata": {},
     "output_type": "execute_result"
    }
   ],
   "source": [
    "df_test.isna().sum()"
   ]
  },
  {
   "cell_type": "code",
   "execution_count": 12,
   "id": "23922751",
   "metadata": {
    "execution": {
     "iopub.execute_input": "2024-06-17T11:55:42.714298Z",
     "iopub.status.busy": "2024-06-17T11:55:42.713903Z",
     "iopub.status.idle": "2024-06-17T11:55:42.724321Z",
     "shell.execute_reply": "2024-06-17T11:55:42.723295Z"
    },
    "papermill": {
     "duration": 0.028151,
     "end_time": "2024-06-17T11:55:42.727289",
     "exception": false,
     "start_time": "2024-06-17T11:55:42.699138",
     "status": "completed"
    },
    "tags": []
   },
   "outputs": [
    {
     "name": "stdout",
     "output_type": "stream",
     "text": [
      "genero :  ['Masculino' 'Feminino' nan]\n",
      "parceiro :  ['Sim' 'Não' nan]\n",
      "dependentes :  ['Sim' 'Não' nan]\n",
      "ServicoTelefone :  ['Sim' nan 'Não']\n",
      "MultiLinhas :  ['Sim' 'Não' nan 'Sem serviço de telefone']\n",
      "ServicoInternet :  ['Não' 'DSL' 'Fibra óptica' nan]\n",
      "ServicoSegurancaCyber :  ['Sem serviço de internet' nan 'Sim' 'Não']\n",
      "ServicoBackup :  ['Sem serviço de internet' 'Sim' 'Não' nan]\n",
      "SeguroDispositivos :  ['Sem serviço de internet' 'Não' 'Sim' nan]\n",
      "ServicoSuporteTecnico :  ['Sem serviço de internet' 'Não' 'Sim' nan]\n",
      "StreamingTV :  ['Sem serviço de internet' 'Não' 'Sim' nan]\n",
      "StreamingFilmes :  ['Sem serviço de internet' 'Não' 'Sim' nan]\n",
      "Contrato :  ['2 Anos' '1 Ano' 'Mensal' nan]\n",
      "BillingDigital :  ['Não' 'Sim' nan]\n",
      "MetodoPagamento :  ['Transferência Bancária (Automática)' 'Cartão de Crédito (Automático)'\n",
      " 'Cheque Eletrônico' 'Cheque por Carta' nan]\n"
     ]
    }
   ],
   "source": [
    "# Valores únicos de cada coluna categórica\n",
    "for i in df_train:\n",
    "  if df_train[i].dtypes == 'object':\n",
    "    print(f'{i} :  {df_train[i].unique()}')"
   ]
  },
  {
   "cell_type": "code",
   "execution_count": 13,
   "id": "e4d60516",
   "metadata": {
    "execution": {
     "iopub.execute_input": "2024-06-17T11:55:42.757039Z",
     "iopub.status.busy": "2024-06-17T11:55:42.756673Z",
     "iopub.status.idle": "2024-06-17T11:55:42.782517Z",
     "shell.execute_reply": "2024-06-17T11:55:42.781346Z"
    },
    "papermill": {
     "duration": 0.044518,
     "end_time": "2024-06-17T11:55:42.785306",
     "exception": false,
     "start_time": "2024-06-17T11:55:42.740788",
     "status": "completed"
    },
    "tags": []
   },
   "outputs": [],
   "source": [
    "# Substituir valores\n",
    "df_train.replace('Sem serviço de internet', 'Não', inplace = True)\n",
    "df_train.replace('Sem serviço de telefone', 'Não', inplace = True)\n",
    "\n",
    "df_test.replace('Sem serviço de internet', 'Não', inplace = True)\n",
    "df_test.replace('Sem serviço de telefone', 'Não', inplace = True)"
   ]
  },
  {
   "cell_type": "code",
   "execution_count": 14,
   "id": "8bca0f22",
   "metadata": {
    "execution": {
     "iopub.execute_input": "2024-06-17T11:55:42.814995Z",
     "iopub.status.busy": "2024-06-17T11:55:42.814615Z",
     "iopub.status.idle": "2024-06-17T11:55:42.822198Z",
     "shell.execute_reply": "2024-06-17T11:55:42.821190Z"
    },
    "papermill": {
     "duration": 0.024761,
     "end_time": "2024-06-17T11:55:42.824504",
     "exception": false,
     "start_time": "2024-06-17T11:55:42.799743",
     "status": "completed"
    },
    "tags": []
   },
   "outputs": [
    {
     "name": "stderr",
     "output_type": "stream",
     "text": [
      "/tmp/ipykernel_18/1128687940.py:2: FutureWarning: A value is trying to be set on a copy of a DataFrame or Series through chained assignment using an inplace method.\n",
      "The behavior will change in pandas 3.0. This inplace method will never work because the intermediate object on which we are setting values always behaves as a copy.\n",
      "\n",
      "For example, when doing 'df[col].method(value, inplace=True)', try using 'df.method({col: value}, inplace=True)' or df[col] = df[col].method(value) instead, to perform the operation inplace on the original object.\n",
      "\n",
      "\n",
      "  df_train['genero'].fillna('Masculino', inplace = True)\n",
      "/tmp/ipykernel_18/1128687940.py:3: FutureWarning: A value is trying to be set on a copy of a DataFrame or Series through chained assignment using an inplace method.\n",
      "The behavior will change in pandas 3.0. This inplace method will never work because the intermediate object on which we are setting values always behaves as a copy.\n",
      "\n",
      "For example, when doing 'df[col].method(value, inplace=True)', try using 'df.method({col: value}, inplace=True)' or df[col] = df[col].method(value) instead, to perform the operation inplace on the original object.\n",
      "\n",
      "\n",
      "  df_test['genero'].fillna('Masculino', inplace = True)\n"
     ]
    }
   ],
   "source": [
    "# Preencher valores nulos na coluna genero\n",
    "df_train['genero'].fillna('Masculino', inplace = True)\n",
    "df_test['genero'].fillna('Masculino', inplace = True)"
   ]
  },
  {
   "cell_type": "code",
   "execution_count": 15,
   "id": "7093c5f3",
   "metadata": {
    "execution": {
     "iopub.execute_input": "2024-06-17T11:55:42.854526Z",
     "iopub.status.busy": "2024-06-17T11:55:42.854136Z",
     "iopub.status.idle": "2024-06-17T11:55:42.860914Z",
     "shell.execute_reply": "2024-06-17T11:55:42.859849Z"
    },
    "papermill": {
     "duration": 0.025317,
     "end_time": "2024-06-17T11:55:42.863992",
     "exception": false,
     "start_time": "2024-06-17T11:55:42.838675",
     "status": "completed"
    },
    "tags": []
   },
   "outputs": [
    {
     "name": "stderr",
     "output_type": "stream",
     "text": [
      "/tmp/ipykernel_18/196557934.py:2: FutureWarning: A value is trying to be set on a copy of a DataFrame or Series through chained assignment using an inplace method.\n",
      "The behavior will change in pandas 3.0. This inplace method will never work because the intermediate object on which we are setting values always behaves as a copy.\n",
      "\n",
      "For example, when doing 'df[col].method(value, inplace=True)', try using 'df.method({col: value}, inplace=True)' or df[col] = df[col].method(value) instead, to perform the operation inplace on the original object.\n",
      "\n",
      "\n",
      "  df_train['idoso'].fillna(0, inplace = True)\n",
      "/tmp/ipykernel_18/196557934.py:3: FutureWarning: A value is trying to be set on a copy of a DataFrame or Series through chained assignment using an inplace method.\n",
      "The behavior will change in pandas 3.0. This inplace method will never work because the intermediate object on which we are setting values always behaves as a copy.\n",
      "\n",
      "For example, when doing 'df[col].method(value, inplace=True)', try using 'df.method({col: value}, inplace=True)' or df[col] = df[col].method(value) instead, to perform the operation inplace on the original object.\n",
      "\n",
      "\n",
      "  df_test['idoso'].fillna(0, inplace = True)\n"
     ]
    }
   ],
   "source": [
    "# Preencher valores nulos na coluna idoso\n",
    "df_train['idoso'].fillna(0, inplace = True)\n",
    "df_test['idoso'].fillna(0, inplace = True)"
   ]
  },
  {
   "cell_type": "code",
   "execution_count": 16,
   "id": "fff4273b",
   "metadata": {
    "execution": {
     "iopub.execute_input": "2024-06-17T11:55:42.894265Z",
     "iopub.status.busy": "2024-06-17T11:55:42.893897Z",
     "iopub.status.idle": "2024-06-17T11:55:42.901036Z",
     "shell.execute_reply": "2024-06-17T11:55:42.899941Z"
    },
    "papermill": {
     "duration": 0.02632,
     "end_time": "2024-06-17T11:55:42.904087",
     "exception": false,
     "start_time": "2024-06-17T11:55:42.877767",
     "status": "completed"
    },
    "tags": []
   },
   "outputs": [
    {
     "name": "stderr",
     "output_type": "stream",
     "text": [
      "/tmp/ipykernel_18/3649459296.py:2: FutureWarning: A value is trying to be set on a copy of a DataFrame or Series through chained assignment using an inplace method.\n",
      "The behavior will change in pandas 3.0. This inplace method will never work because the intermediate object on which we are setting values always behaves as a copy.\n",
      "\n",
      "For example, when doing 'df[col].method(value, inplace=True)', try using 'df.method({col: value}, inplace=True)' or df[col] = df[col].method(value) instead, to perform the operation inplace on the original object.\n",
      "\n",
      "\n",
      "  df_train['parceiro'].fillna('Não', inplace = True)\n",
      "/tmp/ipykernel_18/3649459296.py:3: FutureWarning: A value is trying to be set on a copy of a DataFrame or Series through chained assignment using an inplace method.\n",
      "The behavior will change in pandas 3.0. This inplace method will never work because the intermediate object on which we are setting values always behaves as a copy.\n",
      "\n",
      "For example, when doing 'df[col].method(value, inplace=True)', try using 'df.method({col: value}, inplace=True)' or df[col] = df[col].method(value) instead, to perform the operation inplace on the original object.\n",
      "\n",
      "\n",
      "  df_test['parceiro'].fillna('Não', inplace = True)\n"
     ]
    }
   ],
   "source": [
    "# Preencher valores nulos na coluna parceiro\n",
    "df_train['parceiro'].fillna('Não', inplace = True)\n",
    "df_test['parceiro'].fillna('Não', inplace = True)"
   ]
  },
  {
   "cell_type": "code",
   "execution_count": 17,
   "id": "5e228679",
   "metadata": {
    "execution": {
     "iopub.execute_input": "2024-06-17T11:55:42.934301Z",
     "iopub.status.busy": "2024-06-17T11:55:42.933925Z",
     "iopub.status.idle": "2024-06-17T11:55:42.943217Z",
     "shell.execute_reply": "2024-06-17T11:55:42.942089Z"
    },
    "papermill": {
     "duration": 0.027075,
     "end_time": "2024-06-17T11:55:42.945628",
     "exception": false,
     "start_time": "2024-06-17T11:55:42.918553",
     "status": "completed"
    },
    "tags": []
   },
   "outputs": [
    {
     "name": "stderr",
     "output_type": "stream",
     "text": [
      "/tmp/ipykernel_18/3259269219.py:2: FutureWarning: A value is trying to be set on a copy of a DataFrame or Series through chained assignment using an inplace method.\n",
      "The behavior will change in pandas 3.0. This inplace method will never work because the intermediate object on which we are setting values always behaves as a copy.\n",
      "\n",
      "For example, when doing 'df[col].method(value, inplace=True)', try using 'df.method({col: value}, inplace=True)' or df[col] = df[col].method(value) instead, to perform the operation inplace on the original object.\n",
      "\n",
      "\n",
      "  df_train['dependentes'].fillna('Não', inplace = True)\n",
      "/tmp/ipykernel_18/3259269219.py:3: FutureWarning: A value is trying to be set on a copy of a DataFrame or Series through chained assignment using an inplace method.\n",
      "The behavior will change in pandas 3.0. This inplace method will never work because the intermediate object on which we are setting values always behaves as a copy.\n",
      "\n",
      "For example, when doing 'df[col].method(value, inplace=True)', try using 'df.method({col: value}, inplace=True)' or df[col] = df[col].method(value) instead, to perform the operation inplace on the original object.\n",
      "\n",
      "\n",
      "  df_test['dependentes'].fillna('Não', inplace = True)\n"
     ]
    }
   ],
   "source": [
    "# Preencher valores nulos na coluna dependentes\n",
    "df_train['dependentes'].fillna('Não', inplace = True)\n",
    "df_test['dependentes'].fillna('Não', inplace = True)"
   ]
  },
  {
   "cell_type": "code",
   "execution_count": 18,
   "id": "c53c2269",
   "metadata": {
    "execution": {
     "iopub.execute_input": "2024-06-17T11:55:42.976109Z",
     "iopub.status.busy": "2024-06-17T11:55:42.975735Z",
     "iopub.status.idle": "2024-06-17T11:55:42.983378Z",
     "shell.execute_reply": "2024-06-17T11:55:42.982258Z"
    },
    "papermill": {
     "duration": 0.025728,
     "end_time": "2024-06-17T11:55:42.986016",
     "exception": false,
     "start_time": "2024-06-17T11:55:42.960288",
     "status": "completed"
    },
    "tags": []
   },
   "outputs": [
    {
     "name": "stderr",
     "output_type": "stream",
     "text": [
      "/tmp/ipykernel_18/237041725.py:1: FutureWarning: A value is trying to be set on a copy of a DataFrame or Series through chained assignment using an inplace method.\n",
      "The behavior will change in pandas 3.0. This inplace method will never work because the intermediate object on which we are setting values always behaves as a copy.\n",
      "\n",
      "For example, when doing 'df[col].method(value, inplace=True)', try using 'df.method({col: value}, inplace=True)' or df[col] = df[col].method(value) instead, to perform the operation inplace on the original object.\n",
      "\n",
      "\n",
      "  df_train['ServicoTelefone'].fillna('Sim', inplace = True)\n",
      "/tmp/ipykernel_18/237041725.py:2: FutureWarning: A value is trying to be set on a copy of a DataFrame or Series through chained assignment using an inplace method.\n",
      "The behavior will change in pandas 3.0. This inplace method will never work because the intermediate object on which we are setting values always behaves as a copy.\n",
      "\n",
      "For example, when doing 'df[col].method(value, inplace=True)', try using 'df.method({col: value}, inplace=True)' or df[col] = df[col].method(value) instead, to perform the operation inplace on the original object.\n",
      "\n",
      "\n",
      "  df_test['ServicoTelefone'].fillna('Sim', inplace = True)\n"
     ]
    }
   ],
   "source": [
    "df_train['ServicoTelefone'].fillna('Sim', inplace = True)\n",
    "df_test['ServicoTelefone'].fillna('Sim', inplace = True)"
   ]
  },
  {
   "cell_type": "code",
   "execution_count": 19,
   "id": "6c59eeeb",
   "metadata": {
    "execution": {
     "iopub.execute_input": "2024-06-17T11:55:43.016411Z",
     "iopub.status.busy": "2024-06-17T11:55:43.016003Z",
     "iopub.status.idle": "2024-06-17T11:55:43.024057Z",
     "shell.execute_reply": "2024-06-17T11:55:43.023035Z"
    },
    "papermill": {
     "duration": 0.026082,
     "end_time": "2024-06-17T11:55:43.026419",
     "exception": false,
     "start_time": "2024-06-17T11:55:43.000337",
     "status": "completed"
    },
    "tags": []
   },
   "outputs": [
    {
     "name": "stderr",
     "output_type": "stream",
     "text": [
      "/tmp/ipykernel_18/1301138879.py:1: FutureWarning: A value is trying to be set on a copy of a DataFrame or Series through chained assignment using an inplace method.\n",
      "The behavior will change in pandas 3.0. This inplace method will never work because the intermediate object on which we are setting values always behaves as a copy.\n",
      "\n",
      "For example, when doing 'df[col].method(value, inplace=True)', try using 'df.method({col: value}, inplace=True)' or df[col] = df[col].method(value) instead, to perform the operation inplace on the original object.\n",
      "\n",
      "\n",
      "  df_train['MultiLinhas'].fillna('Não', inplace = True)\n",
      "/tmp/ipykernel_18/1301138879.py:2: FutureWarning: A value is trying to be set on a copy of a DataFrame or Series through chained assignment using an inplace method.\n",
      "The behavior will change in pandas 3.0. This inplace method will never work because the intermediate object on which we are setting values always behaves as a copy.\n",
      "\n",
      "For example, when doing 'df[col].method(value, inplace=True)', try using 'df.method({col: value}, inplace=True)' or df[col] = df[col].method(value) instead, to perform the operation inplace on the original object.\n",
      "\n",
      "\n",
      "  df_test['MultiLinhas'].fillna('Não', inplace = True)\n"
     ]
    }
   ],
   "source": [
    "df_train['MultiLinhas'].fillna('Não', inplace = True)\n",
    "df_test['MultiLinhas'].fillna('Não', inplace = True)"
   ]
  },
  {
   "cell_type": "code",
   "execution_count": 20,
   "id": "126e2b84",
   "metadata": {
    "execution": {
     "iopub.execute_input": "2024-06-17T11:55:43.057687Z",
     "iopub.status.busy": "2024-06-17T11:55:43.057298Z",
     "iopub.status.idle": "2024-06-17T11:55:43.154729Z",
     "shell.execute_reply": "2024-06-17T11:55:43.153539Z"
    },
    "papermill": {
     "duration": 0.115666,
     "end_time": "2024-06-17T11:55:43.157118",
     "exception": false,
     "start_time": "2024-06-17T11:55:43.041452",
     "status": "completed"
    },
    "tags": []
   },
   "outputs": [],
   "source": [
    "# Função para preencher os valores nulos da multilinha com base em outra coluna\n",
    "def preencher_servico_internet(row):\n",
    "  if pd.isnull(row['ServicoInternet']):\n",
    "    if (row['ServicoSegurancaCyber'] == 'Não') & (row['ServicoBackup'] == 'Não') & (row['SeguroDispositivos'] == 'Não') & (row['ServicoSuporteTecnico'] == 'Não') &(row['StreamingTV'] == 'Não') & (row['StreamingFilmes'] == 'Não'):\n",
    "      return 'Não'\n",
    "    else:\n",
    "      return 'Fibra óptica'\n",
    "  else:\n",
    "    return row['ServicoInternet']\n",
    "\n",
    "df_train['ServicoInternet'] = df_train.apply(preencher_servico_internet, axis=1)\n",
    "df_test['ServicoInternet'] = df_test.apply(preencher_servico_internet, axis=1)"
   ]
  },
  {
   "cell_type": "code",
   "execution_count": 21,
   "id": "970c345b",
   "metadata": {
    "execution": {
     "iopub.execute_input": "2024-06-17T11:55:43.189082Z",
     "iopub.status.busy": "2024-06-17T11:55:43.187935Z",
     "iopub.status.idle": "2024-06-17T11:55:43.201676Z",
     "shell.execute_reply": "2024-06-17T11:55:43.200652Z"
    },
    "papermill": {
     "duration": 0.032101,
     "end_time": "2024-06-17T11:55:43.203985",
     "exception": false,
     "start_time": "2024-06-17T11:55:43.171884",
     "status": "completed"
    },
    "tags": []
   },
   "outputs": [
    {
     "name": "stderr",
     "output_type": "stream",
     "text": [
      "/tmp/ipykernel_18/4098380928.py:5: FutureWarning: A value is trying to be set on a copy of a DataFrame or Series through chained assignment using an inplace method.\n",
      "The behavior will change in pandas 3.0. This inplace method will never work because the intermediate object on which we are setting values always behaves as a copy.\n",
      "\n",
      "For example, when doing 'df[col].method(value, inplace=True)', try using 'df.method({col: value}, inplace=True)' or df[col] = df[col].method(value) instead, to perform the operation inplace on the original object.\n",
      "\n",
      "\n",
      "  df_train[coluna].fillna('Não', inplace=True)\n",
      "/tmp/ipykernel_18/4098380928.py:6: FutureWarning: A value is trying to be set on a copy of a DataFrame or Series through chained assignment using an inplace method.\n",
      "The behavior will change in pandas 3.0. This inplace method will never work because the intermediate object on which we are setting values always behaves as a copy.\n",
      "\n",
      "For example, when doing 'df[col].method(value, inplace=True)', try using 'df.method({col: value}, inplace=True)' or df[col] = df[col].method(value) instead, to perform the operation inplace on the original object.\n",
      "\n",
      "\n",
      "  df_test[coluna].fillna('Não', inplace=True)\n"
     ]
    }
   ],
   "source": [
    "# Preencher os valores vazios nas colunas\n",
    "colunas_para_preencher = ['ServicoSegurancaCyber', 'ServicoBackup', 'SeguroDispositivos', 'ServicoSuporteTecnico', 'StreamingTV', 'StreamingFilmes']\n",
    "\n",
    "for coluna in colunas_para_preencher:\n",
    "    df_train[coluna].fillna('Não', inplace=True)\n",
    "    df_test[coluna].fillna('Não', inplace=True)"
   ]
  },
  {
   "cell_type": "code",
   "execution_count": 22,
   "id": "934e50fe",
   "metadata": {
    "execution": {
     "iopub.execute_input": "2024-06-17T11:55:43.235486Z",
     "iopub.status.busy": "2024-06-17T11:55:43.235107Z",
     "iopub.status.idle": "2024-06-17T11:55:43.243258Z",
     "shell.execute_reply": "2024-06-17T11:55:43.242132Z"
    },
    "papermill": {
     "duration": 0.027062,
     "end_time": "2024-06-17T11:55:43.245693",
     "exception": false,
     "start_time": "2024-06-17T11:55:43.218631",
     "status": "completed"
    },
    "tags": []
   },
   "outputs": [
    {
     "name": "stderr",
     "output_type": "stream",
     "text": [
      "/tmp/ipykernel_18/3710679931.py:2: FutureWarning: A value is trying to be set on a copy of a DataFrame or Series through chained assignment using an inplace method.\n",
      "The behavior will change in pandas 3.0. This inplace method will never work because the intermediate object on which we are setting values always behaves as a copy.\n",
      "\n",
      "For example, when doing 'df[col].method(value, inplace=True)', try using 'df.method({col: value}, inplace=True)' or df[col] = df[col].method(value) instead, to perform the operation inplace on the original object.\n",
      "\n",
      "\n",
      "  df_train['Contrato'].fillna('Mensal', inplace = True)\n",
      "/tmp/ipykernel_18/3710679931.py:3: FutureWarning: A value is trying to be set on a copy of a DataFrame or Series through chained assignment using an inplace method.\n",
      "The behavior will change in pandas 3.0. This inplace method will never work because the intermediate object on which we are setting values always behaves as a copy.\n",
      "\n",
      "For example, when doing 'df[col].method(value, inplace=True)', try using 'df.method({col: value}, inplace=True)' or df[col] = df[col].method(value) instead, to perform the operation inplace on the original object.\n",
      "\n",
      "\n",
      "  df_test['Contrato'].fillna('Mensal', inplace = True)\n"
     ]
    }
   ],
   "source": [
    "# Preencher valores nulos na coluna Contrato\n",
    "df_train['Contrato'].fillna('Mensal', inplace = True)\n",
    "df_test['Contrato'].fillna('Mensal', inplace = True)"
   ]
  },
  {
   "cell_type": "code",
   "execution_count": 23,
   "id": "b64a908e",
   "metadata": {
    "execution": {
     "iopub.execute_input": "2024-06-17T11:55:43.334197Z",
     "iopub.status.busy": "2024-06-17T11:55:43.333758Z",
     "iopub.status.idle": "2024-06-17T11:55:43.341961Z",
     "shell.execute_reply": "2024-06-17T11:55:43.340835Z"
    },
    "papermill": {
     "duration": 0.027374,
     "end_time": "2024-06-17T11:55:43.344487",
     "exception": false,
     "start_time": "2024-06-17T11:55:43.317113",
     "status": "completed"
    },
    "tags": []
   },
   "outputs": [
    {
     "name": "stderr",
     "output_type": "stream",
     "text": [
      "/tmp/ipykernel_18/1417859580.py:2: FutureWarning: A value is trying to be set on a copy of a DataFrame or Series through chained assignment using an inplace method.\n",
      "The behavior will change in pandas 3.0. This inplace method will never work because the intermediate object on which we are setting values always behaves as a copy.\n",
      "\n",
      "For example, when doing 'df[col].method(value, inplace=True)', try using 'df.method({col: value}, inplace=True)' or df[col] = df[col].method(value) instead, to perform the operation inplace on the original object.\n",
      "\n",
      "\n",
      "  df_train['BillingDigital'].fillna('Sim', inplace = True)\n",
      "/tmp/ipykernel_18/1417859580.py:3: FutureWarning: A value is trying to be set on a copy of a DataFrame or Series through chained assignment using an inplace method.\n",
      "The behavior will change in pandas 3.0. This inplace method will never work because the intermediate object on which we are setting values always behaves as a copy.\n",
      "\n",
      "For example, when doing 'df[col].method(value, inplace=True)', try using 'df.method({col: value}, inplace=True)' or df[col] = df[col].method(value) instead, to perform the operation inplace on the original object.\n",
      "\n",
      "\n",
      "  df_test['BillingDigital'].fillna('Sim', inplace = True)\n"
     ]
    }
   ],
   "source": [
    "# Preencher valores nulos na coluna BillingDigital\n",
    "df_train['BillingDigital'].fillna('Sim', inplace = True)\n",
    "df_test['BillingDigital'].fillna('Sim', inplace = True)"
   ]
  },
  {
   "cell_type": "code",
   "execution_count": 24,
   "id": "70c94d63",
   "metadata": {
    "execution": {
     "iopub.execute_input": "2024-06-17T11:55:43.376165Z",
     "iopub.status.busy": "2024-06-17T11:55:43.375814Z",
     "iopub.status.idle": "2024-06-17T11:55:43.383168Z",
     "shell.execute_reply": "2024-06-17T11:55:43.382111Z"
    },
    "papermill": {
     "duration": 0.025959,
     "end_time": "2024-06-17T11:55:43.385516",
     "exception": false,
     "start_time": "2024-06-17T11:55:43.359557",
     "status": "completed"
    },
    "tags": []
   },
   "outputs": [
    {
     "name": "stderr",
     "output_type": "stream",
     "text": [
      "/tmp/ipykernel_18/1660932648.py:2: FutureWarning: A value is trying to be set on a copy of a DataFrame or Series through chained assignment using an inplace method.\n",
      "The behavior will change in pandas 3.0. This inplace method will never work because the intermediate object on which we are setting values always behaves as a copy.\n",
      "\n",
      "For example, when doing 'df[col].method(value, inplace=True)', try using 'df.method({col: value}, inplace=True)' or df[col] = df[col].method(value) instead, to perform the operation inplace on the original object.\n",
      "\n",
      "\n",
      "  df_train['MetodoPagamento'].fillna('Cheque Eletrônico', inplace = True)\n",
      "/tmp/ipykernel_18/1660932648.py:3: FutureWarning: A value is trying to be set on a copy of a DataFrame or Series through chained assignment using an inplace method.\n",
      "The behavior will change in pandas 3.0. This inplace method will never work because the intermediate object on which we are setting values always behaves as a copy.\n",
      "\n",
      "For example, when doing 'df[col].method(value, inplace=True)', try using 'df.method({col: value}, inplace=True)' or df[col] = df[col].method(value) instead, to perform the operation inplace on the original object.\n",
      "\n",
      "\n",
      "  df_test['MetodoPagamento'].fillna('Cheque Eletrônico', inplace = True)\n"
     ]
    }
   ],
   "source": [
    "# Preencher valores nulos na coluna BillingDigital\n",
    "df_train['MetodoPagamento'].fillna('Cheque Eletrônico', inplace = True)\n",
    "df_test['MetodoPagamento'].fillna('Cheque Eletrônico', inplace = True)"
   ]
  },
  {
   "cell_type": "markdown",
   "id": "20e61dcf",
   "metadata": {
    "papermill": {
     "duration": 0.014953,
     "end_time": "2024-06-17T11:55:43.415663",
     "exception": false,
     "start_time": "2024-06-17T11:55:43.400710",
     "status": "completed"
    },
    "tags": []
   },
   "source": [
    "## Tratamento das colunas numéricas"
   ]
  },
  {
   "cell_type": "code",
   "execution_count": 25,
   "id": "bccf1f34",
   "metadata": {
    "execution": {
     "iopub.execute_input": "2024-06-17T11:55:43.449019Z",
     "iopub.status.busy": "2024-06-17T11:55:43.448648Z",
     "iopub.status.idle": "2024-06-17T11:55:43.455510Z",
     "shell.execute_reply": "2024-06-17T11:55:43.454412Z"
    },
    "papermill": {
     "duration": 0.026458,
     "end_time": "2024-06-17T11:55:43.457740",
     "exception": false,
     "start_time": "2024-06-17T11:55:43.431282",
     "status": "completed"
    },
    "tags": []
   },
   "outputs": [
    {
     "data": {
      "text/plain": [
       "Index(['genero', 'idoso', 'parceiro', 'dependentes', 'tempoDeServico',\n",
       "       'ServicoTelefone', 'MultiLinhas', 'ServicoInternet',\n",
       "       'ServicoSegurancaCyber', 'ServicoBackup', 'SeguroDispositivos',\n",
       "       'ServicoSuporteTecnico', 'StreamingTV', 'StreamingFilmes', 'Contrato',\n",
       "       'BillingDigital', 'MetodoPagamento', 'FaturaMensal', 'FaturaTotal',\n",
       "       'NumTickets', 'NumTicketsTecnico', 'Churn'],\n",
       "      dtype='object')"
      ]
     },
     "execution_count": 25,
     "metadata": {},
     "output_type": "execute_result"
    }
   ],
   "source": [
    "df_train.columns"
   ]
  },
  {
   "cell_type": "code",
   "execution_count": 26,
   "id": "3d6ec1bb",
   "metadata": {
    "execution": {
     "iopub.execute_input": "2024-06-17T11:55:43.490042Z",
     "iopub.status.busy": "2024-06-17T11:55:43.489668Z",
     "iopub.status.idle": "2024-06-17T11:55:43.791634Z",
     "shell.execute_reply": "2024-06-17T11:55:43.790139Z"
    },
    "papermill": {
     "duration": 0.321164,
     "end_time": "2024-06-17T11:55:43.794162",
     "exception": false,
     "start_time": "2024-06-17T11:55:43.472998",
     "status": "completed"
    },
    "tags": []
   },
   "outputs": [
    {
     "data": {
      "text/plain": [
       "<Axes: >"
      ]
     },
     "execution_count": 26,
     "metadata": {},
     "output_type": "execute_result"
    },
    {
     "data": {
      "image/png": "[encoded data removed]",
      "text/plain": [
       "<Figure size 640x480 with 1 Axes>"
      ]
     },
     "metadata": {},
     "output_type": "display_data"
    }
   ],
   "source": [
    "# Analisar a distribuição dos dados\n",
    "sns.boxplot(df_train['tempoDeServico'])"
   ]
  },
  {
   "cell_type": "code",
   "execution_count": 27,
   "id": "d01c6434",
   "metadata": {
    "execution": {
     "iopub.execute_input": "2024-06-17T11:55:43.828472Z",
     "iopub.status.busy": "2024-06-17T11:55:43.828072Z",
     "iopub.status.idle": "2024-06-17T11:55:43.837595Z",
     "shell.execute_reply": "2024-06-17T11:55:43.836484Z"
    },
    "papermill": {
     "duration": 0.028951,
     "end_time": "2024-06-17T11:55:43.839940",
     "exception": false,
     "start_time": "2024-06-17T11:55:43.810989",
     "status": "completed"
    },
    "tags": []
   },
   "outputs": [],
   "source": [
    "# Transformar os valores negativos em positivos\n",
    "df_train['tempoDeServico'] = df_train['tempoDeServico'].apply(lambda x: abs(x))\n",
    "df_test['tempoDeServico'] = df_test['tempoDeServico'].apply(lambda x: abs(x))"
   ]
  },
  {
   "cell_type": "code",
   "execution_count": 28,
   "id": "ccd69aa4",
   "metadata": {
    "execution": {
     "iopub.execute_input": "2024-06-17T11:55:43.874150Z",
     "iopub.status.busy": "2024-06-17T11:55:43.873789Z",
     "iopub.status.idle": "2024-06-17T11:55:43.885800Z",
     "shell.execute_reply": "2024-06-17T11:55:43.884621Z"
    },
    "papermill": {
     "duration": 0.031747,
     "end_time": "2024-06-17T11:55:43.888163",
     "exception": false,
     "start_time": "2024-06-17T11:55:43.856416",
     "status": "completed"
    },
    "tags": []
   },
   "outputs": [
    {
     "data": {
      "text/plain": [
       "count    4747.000000\n",
       "mean       34.329261\n",
       "std        27.043340\n",
       "min         0.000000\n",
       "25%         9.000000\n",
       "50%        30.000000\n",
       "75%        57.000000\n",
       "max       190.000000\n",
       "Name: tempoDeServico, dtype: float64"
      ]
     },
     "execution_count": 28,
     "metadata": {},
     "output_type": "execute_result"
    }
   ],
   "source": [
    "df_train['tempoDeServico'].describe()"
   ]
  },
  {
   "cell_type": "code",
   "execution_count": 29,
   "id": "cb9ec95c",
   "metadata": {
    "execution": {
     "iopub.execute_input": "2024-06-17T11:55:43.921821Z",
     "iopub.status.busy": "2024-06-17T11:55:43.921128Z",
     "iopub.status.idle": "2024-06-17T11:55:43.927810Z",
     "shell.execute_reply": "2024-06-17T11:55:43.926752Z"
    },
    "papermill": {
     "duration": 0.026667,
     "end_time": "2024-06-17T11:55:43.930744",
     "exception": false,
     "start_time": "2024-06-17T11:55:43.904077",
     "status": "completed"
    },
    "tags": []
   },
   "outputs": [
    {
     "name": "stderr",
     "output_type": "stream",
     "text": [
      "/tmp/ipykernel_18/522733946.py:2: FutureWarning: A value is trying to be set on a copy of a DataFrame or Series through chained assignment using an inplace method.\n",
      "The behavior will change in pandas 3.0. This inplace method will never work because the intermediate object on which we are setting values always behaves as a copy.\n",
      "\n",
      "For example, when doing 'df[col].method(value, inplace=True)', try using 'df.method({col: value}, inplace=True)' or df[col] = df[col].method(value) instead, to perform the operation inplace on the original object.\n",
      "\n",
      "\n",
      "  df_train['tempoDeServico'].fillna(35, inplace = True)\n",
      "/tmp/ipykernel_18/522733946.py:3: FutureWarning: A value is trying to be set on a copy of a DataFrame or Series through chained assignment using an inplace method.\n",
      "The behavior will change in pandas 3.0. This inplace method will never work because the intermediate object on which we are setting values always behaves as a copy.\n",
      "\n",
      "For example, when doing 'df[col].method(value, inplace=True)', try using 'df.method({col: value}, inplace=True)' or df[col] = df[col].method(value) instead, to perform the operation inplace on the original object.\n",
      "\n",
      "\n",
      "  df_test['tempoDeServico'].fillna(35, inplace = True)\n"
     ]
    }
   ],
   "source": [
    "# Preencher valores nulos pela média\n",
    "df_train['tempoDeServico'].fillna(35, inplace = True)\n",
    "df_test['tempoDeServico'].fillna(35, inplace = True)"
   ]
  },
  {
   "cell_type": "code",
   "execution_count": 30,
   "id": "0a648d5d",
   "metadata": {
    "execution": {
     "iopub.execute_input": "2024-06-17T11:55:43.964312Z",
     "iopub.status.busy": "2024-06-17T11:55:43.963928Z",
     "iopub.status.idle": "2024-06-17T11:55:44.169642Z",
     "shell.execute_reply": "2024-06-17T11:55:44.168517Z"
    },
    "papermill": {
     "duration": 0.225544,
     "end_time": "2024-06-17T11:55:44.172271",
     "exception": false,
     "start_time": "2024-06-17T11:55:43.946727",
     "status": "completed"
    },
    "tags": []
   },
   "outputs": [
    {
     "data": {
      "text/plain": [
       "<Axes: >"
      ]
     },
     "execution_count": 30,
     "metadata": {},
     "output_type": "execute_result"
    },
    {
     "data": {
      "image/png": "[encoded data removed]",
      "text/plain": [
       "<Figure size 640x480 with 1 Axes>"
      ]
     },
     "metadata": {},
     "output_type": "display_data"
    }
   ],
   "source": [
    "# Analisar a distribuição dos dados\n",
    "sns.boxplot(df_train['FaturaMensal'])"
   ]
  },
  {
   "cell_type": "code",
   "execution_count": 31,
   "id": "94e09494",
   "metadata": {
    "execution": {
     "iopub.execute_input": "2024-06-17T11:55:44.207267Z",
     "iopub.status.busy": "2024-06-17T11:55:44.206361Z",
     "iopub.status.idle": "2024-06-17T11:55:44.215045Z",
     "shell.execute_reply": "2024-06-17T11:55:44.213939Z"
    },
    "papermill": {
     "duration": 0.028633,
     "end_time": "2024-06-17T11:55:44.217350",
     "exception": false,
     "start_time": "2024-06-17T11:55:44.188717",
     "status": "completed"
    },
    "tags": []
   },
   "outputs": [],
   "source": [
    "# Transformar os valores negativos em positivos\n",
    "df_train['FaturaMensal'] = df_train['FaturaMensal'].apply(lambda x: abs(x))\n",
    "df_test['FaturaMensal'] = df_test['FaturaMensal'].apply(lambda x: abs(x))"
   ]
  },
  {
   "cell_type": "code",
   "execution_count": 32,
   "id": "052cd7d6",
   "metadata": {
    "execution": {
     "iopub.execute_input": "2024-06-17T11:55:44.253445Z",
     "iopub.status.busy": "2024-06-17T11:55:44.253041Z",
     "iopub.status.idle": "2024-06-17T11:55:44.263915Z",
     "shell.execute_reply": "2024-06-17T11:55:44.262858Z"
    },
    "papermill": {
     "duration": 0.031153,
     "end_time": "2024-06-17T11:55:44.266219",
     "exception": false,
     "start_time": "2024-06-17T11:55:44.235066",
     "status": "completed"
    },
    "tags": []
   },
   "outputs": [
    {
     "data": {
      "text/plain": [
       "count    4726.000000\n",
       "mean       66.366483\n",
       "std        32.950073\n",
       "min         2.000000\n",
       "25%        36.300000\n",
       "50%        70.650000\n",
       "75%        90.500000\n",
       "max       247.000000\n",
       "Name: FaturaMensal, dtype: float64"
      ]
     },
     "execution_count": 32,
     "metadata": {},
     "output_type": "execute_result"
    }
   ],
   "source": [
    "df_train['FaturaMensal'].describe()"
   ]
  },
  {
   "cell_type": "code",
   "execution_count": 33,
   "id": "de48c761",
   "metadata": {
    "execution": {
     "iopub.execute_input": "2024-06-17T11:55:44.302106Z",
     "iopub.status.busy": "2024-06-17T11:55:44.301156Z",
     "iopub.status.idle": "2024-06-17T11:55:44.308361Z",
     "shell.execute_reply": "2024-06-17T11:55:44.307327Z"
    },
    "papermill": {
     "duration": 0.027879,
     "end_time": "2024-06-17T11:55:44.310841",
     "exception": false,
     "start_time": "2024-06-17T11:55:44.282962",
     "status": "completed"
    },
    "tags": []
   },
   "outputs": [
    {
     "name": "stderr",
     "output_type": "stream",
     "text": [
      "/tmp/ipykernel_18/39909715.py:2: FutureWarning: A value is trying to be set on a copy of a DataFrame or Series through chained assignment using an inplace method.\n",
      "The behavior will change in pandas 3.0. This inplace method will never work because the intermediate object on which we are setting values always behaves as a copy.\n",
      "\n",
      "For example, when doing 'df[col].method(value, inplace=True)', try using 'df.method({col: value}, inplace=True)' or df[col] = df[col].method(value) instead, to perform the operation inplace on the original object.\n",
      "\n",
      "\n",
      "  df_train['FaturaMensal'].fillna(66, inplace = True)\n",
      "/tmp/ipykernel_18/39909715.py:3: FutureWarning: A value is trying to be set on a copy of a DataFrame or Series through chained assignment using an inplace method.\n",
      "The behavior will change in pandas 3.0. This inplace method will never work because the intermediate object on which we are setting values always behaves as a copy.\n",
      "\n",
      "For example, when doing 'df[col].method(value, inplace=True)', try using 'df.method({col: value}, inplace=True)' or df[col] = df[col].method(value) instead, to perform the operation inplace on the original object.\n",
      "\n",
      "\n",
      "  df_test['FaturaMensal'].fillna(66, inplace = True)\n"
     ]
    }
   ],
   "source": [
    "# Preencher valores nulos pela média\n",
    "df_train['FaturaMensal'].fillna(66, inplace = True)\n",
    "df_test['FaturaMensal'].fillna(66, inplace = True)"
   ]
  },
  {
   "cell_type": "code",
   "execution_count": 34,
   "id": "8c6cb98b",
   "metadata": {
    "execution": {
     "iopub.execute_input": "2024-06-17T11:55:44.349437Z",
     "iopub.status.busy": "2024-06-17T11:55:44.348092Z",
     "iopub.status.idle": "2024-06-17T11:55:44.528683Z",
     "shell.execute_reply": "2024-06-17T11:55:44.527588Z"
    },
    "papermill": {
     "duration": 0.20229,
     "end_time": "2024-06-17T11:55:44.531135",
     "exception": false,
     "start_time": "2024-06-17T11:55:44.328845",
     "status": "completed"
    },
    "tags": []
   },
   "outputs": [
    {
     "data": {
      "text/plain": [
       "<Axes: >"
      ]
     },
     "execution_count": 34,
     "metadata": {},
     "output_type": "execute_result"
    },
    {
     "data": {
      "image/png": "[encoded data removed]",
      "text/plain": [
       "<Figure size 640x480 with 1 Axes>"
      ]
     },
     "metadata": {},
     "output_type": "display_data"
    }
   ],
   "source": [
    "# Analisar a distribuição dos dados\n",
    "sns.boxplot(df_train['FaturaTotal'])"
   ]
  },
  {
   "cell_type": "code",
   "execution_count": 35,
   "id": "56cbb896",
   "metadata": {
    "execution": {
     "iopub.execute_input": "2024-06-17T11:55:44.568208Z",
     "iopub.status.busy": "2024-06-17T11:55:44.567816Z",
     "iopub.status.idle": "2024-06-17T11:55:44.579341Z",
     "shell.execute_reply": "2024-06-17T11:55:44.578394Z"
    },
    "papermill": {
     "duration": 0.032813,
     "end_time": "2024-06-17T11:55:44.581436",
     "exception": false,
     "start_time": "2024-06-17T11:55:44.548623",
     "status": "completed"
    },
    "tags": []
   },
   "outputs": [
    {
     "data": {
      "text/plain": [
       "count    4753.000000\n",
       "mean     2275.284252\n",
       "std      2248.815792\n",
       "min        18.850000\n",
       "25%       385.550000\n",
       "50%      1410.250000\n",
       "75%      3778.200000\n",
       "max      8672.450000\n",
       "Name: FaturaTotal, dtype: float64"
      ]
     },
     "execution_count": 35,
     "metadata": {},
     "output_type": "execute_result"
    }
   ],
   "source": [
    "df_train['FaturaTotal'].describe()"
   ]
  },
  {
   "cell_type": "code",
   "execution_count": 36,
   "id": "cde368ae",
   "metadata": {
    "execution": {
     "iopub.execute_input": "2024-06-17T11:55:44.618191Z",
     "iopub.status.busy": "2024-06-17T11:55:44.617813Z",
     "iopub.status.idle": "2024-06-17T11:55:44.625809Z",
     "shell.execute_reply": "2024-06-17T11:55:44.624418Z"
    },
    "papermill": {
     "duration": 0.030015,
     "end_time": "2024-06-17T11:55:44.628874",
     "exception": false,
     "start_time": "2024-06-17T11:55:44.598859",
     "status": "completed"
    },
    "tags": []
   },
   "outputs": [
    {
     "name": "stderr",
     "output_type": "stream",
     "text": [
      "/tmp/ipykernel_18/345448389.py:2: FutureWarning: A value is trying to be set on a copy of a DataFrame or Series through chained assignment using an inplace method.\n",
      "The behavior will change in pandas 3.0. This inplace method will never work because the intermediate object on which we are setting values always behaves as a copy.\n",
      "\n",
      "For example, when doing 'df[col].method(value, inplace=True)', try using 'df.method({col: value}, inplace=True)' or df[col] = df[col].method(value) instead, to perform the operation inplace on the original object.\n",
      "\n",
      "\n",
      "  df_train['FaturaTotal'].fillna(2275, inplace = True)\n",
      "/tmp/ipykernel_18/345448389.py:3: FutureWarning: A value is trying to be set on a copy of a DataFrame or Series through chained assignment using an inplace method.\n",
      "The behavior will change in pandas 3.0. This inplace method will never work because the intermediate object on which we are setting values always behaves as a copy.\n",
      "\n",
      "For example, when doing 'df[col].method(value, inplace=True)', try using 'df.method({col: value}, inplace=True)' or df[col] = df[col].method(value) instead, to perform the operation inplace on the original object.\n",
      "\n",
      "\n",
      "  df_test['FaturaTotal'].fillna(2275, inplace = True)\n"
     ]
    }
   ],
   "source": [
    "# Preencher valores nulos\n",
    "df_train['FaturaTotal'].fillna(2275, inplace = True)\n",
    "df_test['FaturaTotal'].fillna(2275, inplace = True)"
   ]
  },
  {
   "cell_type": "code",
   "execution_count": 37,
   "id": "af40a3b9",
   "metadata": {
    "execution": {
     "iopub.execute_input": "2024-06-17T11:55:44.667052Z",
     "iopub.status.busy": "2024-06-17T11:55:44.666063Z",
     "iopub.status.idle": "2024-06-17T11:55:44.676911Z",
     "shell.execute_reply": "2024-06-17T11:55:44.675785Z"
    },
    "papermill": {
     "duration": 0.03233,
     "end_time": "2024-06-17T11:55:44.679081",
     "exception": false,
     "start_time": "2024-06-17T11:55:44.646751",
     "status": "completed"
    },
    "tags": []
   },
   "outputs": [
    {
     "data": {
      "text/plain": [
       "NumTickets\n",
       "0.0    3937\n",
       "3.0     175\n",
       "5.0     160\n",
       "2.0     157\n",
       "1.0     155\n",
       "4.0     147\n",
       "Name: count, dtype: int64"
      ]
     },
     "execution_count": 37,
     "metadata": {},
     "output_type": "execute_result"
    }
   ],
   "source": [
    "df_train['NumTickets'].value_counts()"
   ]
  },
  {
   "cell_type": "code",
   "execution_count": 38,
   "id": "b4032952",
   "metadata": {
    "execution": {
     "iopub.execute_input": "2024-06-17T11:55:44.716404Z",
     "iopub.status.busy": "2024-06-17T11:55:44.716010Z",
     "iopub.status.idle": "2024-06-17T11:55:44.723213Z",
     "shell.execute_reply": "2024-06-17T11:55:44.722166Z"
    },
    "papermill": {
     "duration": 0.028753,
     "end_time": "2024-06-17T11:55:44.725718",
     "exception": false,
     "start_time": "2024-06-17T11:55:44.696965",
     "status": "completed"
    },
    "tags": []
   },
   "outputs": [
    {
     "name": "stderr",
     "output_type": "stream",
     "text": [
      "/tmp/ipykernel_18/3986409997.py:2: FutureWarning: A value is trying to be set on a copy of a DataFrame or Series through chained assignment using an inplace method.\n",
      "The behavior will change in pandas 3.0. This inplace method will never work because the intermediate object on which we are setting values always behaves as a copy.\n",
      "\n",
      "For example, when doing 'df[col].method(value, inplace=True)', try using 'df.method({col: value}, inplace=True)' or df[col] = df[col].method(value) instead, to perform the operation inplace on the original object.\n",
      "\n",
      "\n",
      "  df_train['NumTickets'].fillna(0, inplace = True)\n",
      "/tmp/ipykernel_18/3986409997.py:3: FutureWarning: A value is trying to be set on a copy of a DataFrame or Series through chained assignment using an inplace method.\n",
      "The behavior will change in pandas 3.0. This inplace method will never work because the intermediate object on which we are setting values always behaves as a copy.\n",
      "\n",
      "For example, when doing 'df[col].method(value, inplace=True)', try using 'df.method({col: value}, inplace=True)' or df[col] = df[col].method(value) instead, to perform the operation inplace on the original object.\n",
      "\n",
      "\n",
      "  df_test['NumTickets'].fillna(0, inplace = True)\n"
     ]
    }
   ],
   "source": [
    "# Preencher valores nulos\n",
    "df_train['NumTickets'].fillna(0, inplace = True)\n",
    "df_test['NumTickets'].fillna(0, inplace = True)"
   ]
  },
  {
   "cell_type": "code",
   "execution_count": 39,
   "id": "6a87741e",
   "metadata": {
    "execution": {
     "iopub.execute_input": "2024-06-17T11:55:44.762978Z",
     "iopub.status.busy": "2024-06-17T11:55:44.762605Z",
     "iopub.status.idle": "2024-06-17T11:55:44.771218Z",
     "shell.execute_reply": "2024-06-17T11:55:44.770292Z"
    },
    "papermill": {
     "duration": 0.029679,
     "end_time": "2024-06-17T11:55:44.773316",
     "exception": false,
     "start_time": "2024-06-17T11:55:44.743637",
     "status": "completed"
    },
    "tags": []
   },
   "outputs": [
    {
     "data": {
      "text/plain": [
       "NumTicketsTecnico\n",
       "0.0    4105\n",
       "1.0     163\n",
       "2.0     135\n",
       "3.0      99\n",
       "4.0      95\n",
       "5.0      74\n",
       "6.0      53\n",
       "7.0      15\n",
       "8.0       6\n",
       "Name: count, dtype: int64"
      ]
     },
     "execution_count": 39,
     "metadata": {},
     "output_type": "execute_result"
    }
   ],
   "source": [
    "df_train['NumTicketsTecnico'].value_counts()"
   ]
  },
  {
   "cell_type": "code",
   "execution_count": 40,
   "id": "721d7396",
   "metadata": {
    "execution": {
     "iopub.execute_input": "2024-06-17T11:55:44.811308Z",
     "iopub.status.busy": "2024-06-17T11:55:44.810415Z",
     "iopub.status.idle": "2024-06-17T11:55:44.817377Z",
     "shell.execute_reply": "2024-06-17T11:55:44.816305Z"
    },
    "papermill": {
     "duration": 0.028882,
     "end_time": "2024-06-17T11:55:44.820045",
     "exception": false,
     "start_time": "2024-06-17T11:55:44.791163",
     "status": "completed"
    },
    "tags": []
   },
   "outputs": [
    {
     "name": "stderr",
     "output_type": "stream",
     "text": [
      "/tmp/ipykernel_18/2918576383.py:2: FutureWarning: A value is trying to be set on a copy of a DataFrame or Series through chained assignment using an inplace method.\n",
      "The behavior will change in pandas 3.0. This inplace method will never work because the intermediate object on which we are setting values always behaves as a copy.\n",
      "\n",
      "For example, when doing 'df[col].method(value, inplace=True)', try using 'df.method({col: value}, inplace=True)' or df[col] = df[col].method(value) instead, to perform the operation inplace on the original object.\n",
      "\n",
      "\n",
      "  df_train['NumTicketsTecnico'].fillna(0, inplace = True)\n",
      "/tmp/ipykernel_18/2918576383.py:3: FutureWarning: A value is trying to be set on a copy of a DataFrame or Series through chained assignment using an inplace method.\n",
      "The behavior will change in pandas 3.0. This inplace method will never work because the intermediate object on which we are setting values always behaves as a copy.\n",
      "\n",
      "For example, when doing 'df[col].method(value, inplace=True)', try using 'df.method({col: value}, inplace=True)' or df[col] = df[col].method(value) instead, to perform the operation inplace on the original object.\n",
      "\n",
      "\n",
      "  df_test['NumTicketsTecnico'].fillna(0, inplace = True)\n"
     ]
    }
   ],
   "source": [
    "# Preencher valores nulos pela média\n",
    "df_train['NumTicketsTecnico'].fillna(0, inplace = True)\n",
    "df_test['NumTicketsTecnico'].fillna(0, inplace = True)"
   ]
  },
  {
   "cell_type": "code",
   "execution_count": 41,
   "id": "389586e4",
   "metadata": {
    "execution": {
     "iopub.execute_input": "2024-06-17T11:55:44.860115Z",
     "iopub.status.busy": "2024-06-17T11:55:44.859740Z",
     "iopub.status.idle": "2024-06-17T11:55:45.122674Z",
     "shell.execute_reply": "2024-06-17T11:55:45.121507Z"
    },
    "papermill": {
     "duration": 0.285931,
     "end_time": "2024-06-17T11:55:45.125054",
     "exception": false,
     "start_time": "2024-06-17T11:55:44.839123",
     "status": "completed"
    },
    "tags": []
   },
   "outputs": [
    {
     "data": {
      "text/plain": [
       "<Axes: title={'center': 'Churn'}, xlabel='Churn'>"
      ]
     },
     "execution_count": 41,
     "metadata": {},
     "output_type": "execute_result"
    },
    {
     "data": {
      "image/png": "[encoded data removed]",
      "text/plain": [
       "<Figure size 640x480 with 1 Axes>"
      ]
     },
     "metadata": {},
     "output_type": "display_data"
    }
   ],
   "source": [
    "df_train.Churn.value_counts().plot(kind =  'bar', title = 'Churn')"
   ]
  },
  {
   "cell_type": "code",
   "execution_count": 42,
   "id": "b1178adb",
   "metadata": {
    "execution": {
     "iopub.execute_input": "2024-06-17T11:55:45.164214Z",
     "iopub.status.busy": "2024-06-17T11:55:45.163838Z",
     "iopub.status.idle": "2024-06-17T11:55:45.172992Z",
     "shell.execute_reply": "2024-06-17T11:55:45.172061Z"
    },
    "papermill": {
     "duration": 0.031578,
     "end_time": "2024-06-17T11:55:45.175398",
     "exception": false,
     "start_time": "2024-06-17T11:55:45.143820",
     "status": "completed"
    },
    "tags": []
   },
   "outputs": [],
   "source": [
    "df_train.dropna(subset = ['Churn'], inplace = True)"
   ]
  },
  {
   "cell_type": "code",
   "execution_count": 43,
   "id": "49cdf698",
   "metadata": {
    "execution": {
     "iopub.execute_input": "2024-06-17T11:55:45.214418Z",
     "iopub.status.busy": "2024-06-17T11:55:45.214029Z",
     "iopub.status.idle": "2024-06-17T11:55:45.220950Z",
     "shell.execute_reply": "2024-06-17T11:55:45.219816Z"
    },
    "papermill": {
     "duration": 0.028979,
     "end_time": "2024-06-17T11:55:45.223037",
     "exception": false,
     "start_time": "2024-06-17T11:55:45.194058",
     "status": "completed"
    },
    "tags": []
   },
   "outputs": [
    {
     "data": {
      "text/plain": [
       "Index(['genero', 'idoso', 'parceiro', 'dependentes', 'tempoDeServico',\n",
       "       'ServicoTelefone', 'MultiLinhas', 'ServicoInternet',\n",
       "       'ServicoSegurancaCyber', 'ServicoBackup', 'SeguroDispositivos',\n",
       "       'ServicoSuporteTecnico', 'StreamingTV', 'StreamingFilmes', 'Contrato',\n",
       "       'BillingDigital', 'MetodoPagamento', 'FaturaMensal', 'FaturaTotal',\n",
       "       'NumTickets', 'NumTicketsTecnico', 'Churn'],\n",
       "      dtype='object')"
      ]
     },
     "execution_count": 43,
     "metadata": {},
     "output_type": "execute_result"
    }
   ],
   "source": [
    "df_train.columns"
   ]
  },
  {
   "cell_type": "code",
   "execution_count": 44,
   "id": "a214c128",
   "metadata": {
    "execution": {
     "iopub.execute_input": "2024-06-17T11:55:45.262710Z",
     "iopub.status.busy": "2024-06-17T11:55:45.262300Z",
     "iopub.status.idle": "2024-06-17T11:55:45.292731Z",
     "shell.execute_reply": "2024-06-17T11:55:45.291535Z"
    },
    "papermill": {
     "duration": 0.053231,
     "end_time": "2024-06-17T11:55:45.295171",
     "exception": false,
     "start_time": "2024-06-17T11:55:45.241940",
     "status": "completed"
    },
    "tags": []
   },
   "outputs": [
    {
     "data": {
      "text/plain": [
       "Index(['genero_Feminino', 'genero_Masculino', 'parceiro_Não', 'parceiro_Sim',\n",
       "       'dependentes_Não', 'dependentes_Sim', 'ServicoTelefone_Não',\n",
       "       'ServicoTelefone_Sim', 'MultiLinhas_Não', 'MultiLinhas_Sim',\n",
       "       'ServicoInternet_DSL', 'ServicoInternet_Fibra óptica',\n",
       "       'ServicoInternet_Não', 'ServicoSegurancaCyber_Não',\n",
       "       'ServicoSegurancaCyber_Sim', 'ServicoBackup_Não', 'ServicoBackup_Sim',\n",
       "       'SeguroDispositivos_Não', 'SeguroDispositivos_Sim',\n",
       "       'ServicoSuporteTecnico_Não', 'ServicoSuporteTecnico_Sim',\n",
       "       'StreamingTV_Não', 'StreamingTV_Sim', 'StreamingFilmes_Não',\n",
       "       'StreamingFilmes_Sim', 'Contrato_1 Ano', 'Contrato_2 Anos',\n",
       "       'Contrato_Mensal', 'BillingDigital_Não', 'BillingDigital_Sim',\n",
       "       'MetodoPagamento_Cartão de Crédito (Automático)',\n",
       "       'MetodoPagamento_Cheque Eletrônico', 'MetodoPagamento_Cheque por Carta',\n",
       "       'MetodoPagamento_Transferência Bancária (Automática)'],\n",
       "      dtype='object')"
      ]
     },
     "execution_count": 44,
     "metadata": {},
     "output_type": "execute_result"
    }
   ],
   "source": [
    "# One Hot Encoded nas colunas categóricas, excluindo aquela com a menor frequência\n",
    "colunas_categoricas = ['genero',\n",
    "                       'parceiro',\n",
    "                       'dependentes',\n",
    "                       'ServicoTelefone',\n",
    "                       'MultiLinhas',\n",
    "                       'ServicoInternet',\n",
    "                       'ServicoSegurancaCyber',\n",
    "                       'ServicoBackup',\n",
    "                       'SeguroDispositivos',\n",
    "                       'ServicoSuporteTecnico',\n",
    "                       'StreamingTV',\n",
    "                       'StreamingFilmes',\n",
    "                       'Contrato',\n",
    "                       'BillingDigital',\n",
    "                       'MetodoPagamento']\n",
    "\n",
    "one_hot_encoded = pd.get_dummies(df_train[colunas_categoricas])\n",
    "one_hot_encoded.columns"
   ]
  },
  {
   "cell_type": "code",
   "execution_count": 45,
   "id": "f344a8f6",
   "metadata": {
    "execution": {
     "iopub.execute_input": "2024-06-17T11:55:45.336566Z",
     "iopub.status.busy": "2024-06-17T11:55:45.335613Z",
     "iopub.status.idle": "2024-06-17T11:55:45.346454Z",
     "shell.execute_reply": "2024-06-17T11:55:45.345307Z"
    },
    "papermill": {
     "duration": 0.034483,
     "end_time": "2024-06-17T11:55:45.348942",
     "exception": false,
     "start_time": "2024-06-17T11:55:45.314459",
     "status": "completed"
    },
    "tags": []
   },
   "outputs": [],
   "source": [
    "# Concatenando o dataframe e apagando as colunas dummies\n",
    "df_train = pd.concat([df_train, one_hot_encoded], axis=1)\n",
    "df_train.drop(columns = colunas_categoricas, inplace = True)"
   ]
  },
  {
   "cell_type": "code",
   "execution_count": 46,
   "id": "3695e7a1",
   "metadata": {
    "execution": {
     "iopub.execute_input": "2024-06-17T11:55:45.388804Z",
     "iopub.status.busy": "2024-06-17T11:55:45.388415Z",
     "iopub.status.idle": "2024-06-17T11:55:45.589998Z",
     "shell.execute_reply": "2024-06-17T11:55:45.588878Z"
    },
    "papermill": {
     "duration": 0.224015,
     "end_time": "2024-06-17T11:55:45.592269",
     "exception": false,
     "start_time": "2024-06-17T11:55:45.368254",
     "status": "completed"
    },
    "tags": []
   },
   "outputs": [
    {
     "data": {
      "text/html": [
       "<div>\n",
       "<style scoped>\n",
       "    .dataframe tbody tr th:only-of-type {\n",
       "        vertical-align: middle;\n",
       "    }\n",
       "\n",
       "    .dataframe tbody tr th {\n",
       "        vertical-align: top;\n",
       "    }\n",
       "\n",
       "    .dataframe thead th {\n",
       "        text-align: right;\n",
       "    }\n",
       "</style>\n",
       "<table border=\"1\" class=\"dataframe\">\n",
       "  <thead>\n",
       "    <tr style=\"text-align: right;\">\n",
       "      <th></th>\n",
       "      <th>idoso</th>\n",
       "      <th>tempoDeServico</th>\n",
       "      <th>FaturaMensal</th>\n",
       "      <th>FaturaTotal</th>\n",
       "      <th>NumTickets</th>\n",
       "      <th>NumTicketsTecnico</th>\n",
       "      <th>Churn</th>\n",
       "      <th>genero_Feminino</th>\n",
       "      <th>genero_Masculino</th>\n",
       "      <th>parceiro_Não</th>\n",
       "      <th>...</th>\n",
       "      <th>StreamingFilmes_Sim</th>\n",
       "      <th>Contrato_1 Ano</th>\n",
       "      <th>Contrato_2 Anos</th>\n",
       "      <th>Contrato_Mensal</th>\n",
       "      <th>BillingDigital_Não</th>\n",
       "      <th>BillingDigital_Sim</th>\n",
       "      <th>MetodoPagamento_Cartão de Crédito (Automático)</th>\n",
       "      <th>MetodoPagamento_Cheque Eletrônico</th>\n",
       "      <th>MetodoPagamento_Cheque por Carta</th>\n",
       "      <th>MetodoPagamento_Transferência Bancária (Automática)</th>\n",
       "    </tr>\n",
       "  </thead>\n",
       "  <tbody>\n",
       "    <tr>\n",
       "      <th>0</th>\n",
       "      <td>0.0</td>\n",
       "      <td>0.184211</td>\n",
       "      <td>0.095714</td>\n",
       "      <td>0.091338</td>\n",
       "      <td>0.0</td>\n",
       "      <td>0.0</td>\n",
       "      <td>0.0</td>\n",
       "      <td>False</td>\n",
       "      <td>True</td>\n",
       "      <td>False</td>\n",
       "      <td>...</td>\n",
       "      <td>False</td>\n",
       "      <td>False</td>\n",
       "      <td>True</td>\n",
       "      <td>False</td>\n",
       "      <td>True</td>\n",
       "      <td>False</td>\n",
       "      <td>False</td>\n",
       "      <td>False</td>\n",
       "      <td>False</td>\n",
       "      <td>True</td>\n",
       "    </tr>\n",
       "    <tr>\n",
       "      <th>1</th>\n",
       "      <td>0.0</td>\n",
       "      <td>0.221053</td>\n",
       "      <td>0.237347</td>\n",
       "      <td>0.277659</td>\n",
       "      <td>0.0</td>\n",
       "      <td>0.0</td>\n",
       "      <td>0.0</td>\n",
       "      <td>True</td>\n",
       "      <td>False</td>\n",
       "      <td>True</td>\n",
       "      <td>...</td>\n",
       "      <td>False</td>\n",
       "      <td>True</td>\n",
       "      <td>False</td>\n",
       "      <td>False</td>\n",
       "      <td>False</td>\n",
       "      <td>True</td>\n",
       "      <td>False</td>\n",
       "      <td>False</td>\n",
       "      <td>False</td>\n",
       "      <td>True</td>\n",
       "    </tr>\n",
       "    <tr>\n",
       "      <th>2</th>\n",
       "      <td>0.0</td>\n",
       "      <td>0.363158</td>\n",
       "      <td>0.328367</td>\n",
       "      <td>0.639786</td>\n",
       "      <td>0.0</td>\n",
       "      <td>0.0</td>\n",
       "      <td>0.0</td>\n",
       "      <td>True</td>\n",
       "      <td>False</td>\n",
       "      <td>True</td>\n",
       "      <td>...</td>\n",
       "      <td>True</td>\n",
       "      <td>False</td>\n",
       "      <td>True</td>\n",
       "      <td>False</td>\n",
       "      <td>False</td>\n",
       "      <td>True</td>\n",
       "      <td>True</td>\n",
       "      <td>False</td>\n",
       "      <td>False</td>\n",
       "      <td>False</td>\n",
       "    </tr>\n",
       "    <tr>\n",
       "      <th>3</th>\n",
       "      <td>1.0</td>\n",
       "      <td>0.047368</td>\n",
       "      <td>0.397755</td>\n",
       "      <td>0.104067</td>\n",
       "      <td>0.0</td>\n",
       "      <td>0.0</td>\n",
       "      <td>1.0</td>\n",
       "      <td>False</td>\n",
       "      <td>True</td>\n",
       "      <td>True</td>\n",
       "      <td>...</td>\n",
       "      <td>True</td>\n",
       "      <td>False</td>\n",
       "      <td>False</td>\n",
       "      <td>True</td>\n",
       "      <td>False</td>\n",
       "      <td>True</td>\n",
       "      <td>True</td>\n",
       "      <td>False</td>\n",
       "      <td>False</td>\n",
       "      <td>False</td>\n",
       "    </tr>\n",
       "    <tr>\n",
       "      <th>4</th>\n",
       "      <td>0.0</td>\n",
       "      <td>0.163158</td>\n",
       "      <td>0.392041</td>\n",
       "      <td>0.353986</td>\n",
       "      <td>0.0</td>\n",
       "      <td>0.0</td>\n",
       "      <td>0.0</td>\n",
       "      <td>False</td>\n",
       "      <td>True</td>\n",
       "      <td>False</td>\n",
       "      <td>...</td>\n",
       "      <td>False</td>\n",
       "      <td>True</td>\n",
       "      <td>False</td>\n",
       "      <td>False</td>\n",
       "      <td>True</td>\n",
       "      <td>False</td>\n",
       "      <td>False</td>\n",
       "      <td>False</td>\n",
       "      <td>False</td>\n",
       "      <td>True</td>\n",
       "    </tr>\n",
       "  </tbody>\n",
       "</table>\n",
       "<p>5 rows × 41 columns</p>\n",
       "</div>"
      ],
      "text/plain": [
       "   idoso  tempoDeServico  FaturaMensal  FaturaTotal  NumTickets  \\\n",
       "0    0.0        0.184211      0.095714     0.091338         0.0   \n",
       "1    0.0        0.221053      0.237347     0.277659         0.0   \n",
       "2    0.0        0.363158      0.328367     0.639786         0.0   \n",
       "3    1.0        0.047368      0.397755     0.104067         0.0   \n",
       "4    0.0        0.163158      0.392041     0.353986         0.0   \n",
       "\n",
       "   NumTicketsTecnico  Churn  genero_Feminino  genero_Masculino  parceiro_Não  \\\n",
       "0                0.0    0.0            False              True         False   \n",
       "1                0.0    0.0             True             False          True   \n",
       "2                0.0    0.0             True             False          True   \n",
       "3                0.0    1.0            False              True          True   \n",
       "4                0.0    0.0            False              True         False   \n",
       "\n",
       "   ...  StreamingFilmes_Sim  Contrato_1 Ano  Contrato_2 Anos  Contrato_Mensal  \\\n",
       "0  ...                False           False             True            False   \n",
       "1  ...                False            True            False            False   \n",
       "2  ...                 True           False             True            False   \n",
       "3  ...                 True           False            False             True   \n",
       "4  ...                False            True            False            False   \n",
       "\n",
       "   BillingDigital_Não  BillingDigital_Sim  \\\n",
       "0                True               False   \n",
       "1               False                True   \n",
       "2               False                True   \n",
       "3               False                True   \n",
       "4                True               False   \n",
       "\n",
       "   MetodoPagamento_Cartão de Crédito (Automático)  \\\n",
       "0                                           False   \n",
       "1                                           False   \n",
       "2                                            True   \n",
       "3                                            True   \n",
       "4                                           False   \n",
       "\n",
       "   MetodoPagamento_Cheque Eletrônico  MetodoPagamento_Cheque por Carta  \\\n",
       "0                              False                             False   \n",
       "1                              False                             False   \n",
       "2                              False                             False   \n",
       "3                              False                             False   \n",
       "4                              False                             False   \n",
       "\n",
       "   MetodoPagamento_Transferência Bancária (Automática)  \n",
       "0                                               True    \n",
       "1                                               True    \n",
       "2                                              False    \n",
       "3                                              False    \n",
       "4                                               True    \n",
       "\n",
       "[5 rows x 41 columns]"
      ]
     },
     "execution_count": 46,
     "metadata": {},
     "output_type": "execute_result"
    }
   ],
   "source": [
    "from sklearn.preprocessing import MinMaxScaler\n",
    "scaler = MinMaxScaler()\n",
    "\n",
    "df_train[['tempoDeServico',\t'FaturaMensal',\t'FaturaTotal']] = scaler.fit_transform(df_train[['tempoDeServico',\t'FaturaMensal',\t'FaturaTotal']])\n",
    "df_train.head()"
   ]
  },
  {
   "cell_type": "code",
   "execution_count": 47,
   "id": "97c64531",
   "metadata": {
    "execution": {
     "iopub.execute_input": "2024-06-17T11:55:45.633576Z",
     "iopub.status.busy": "2024-06-17T11:55:45.633159Z",
     "iopub.status.idle": "2024-06-17T11:55:45.656247Z",
     "shell.execute_reply": "2024-06-17T11:55:45.655033Z"
    },
    "papermill": {
     "duration": 0.047526,
     "end_time": "2024-06-17T11:55:45.659415",
     "exception": false,
     "start_time": "2024-06-17T11:55:45.611889",
     "status": "completed"
    },
    "tags": []
   },
   "outputs": [],
   "source": [
    "# Separar as bases\n",
    "X = df_train.drop(['Churn'], axis = 1)\n",
    "y = df_train[['Churn']]\n",
    "X = np.asarray(X).astype(np.float32)\n",
    "y = np.asarray(y).astype(np.float32)"
   ]
  },
  {
   "cell_type": "code",
   "execution_count": 48,
   "id": "cf05600c",
   "metadata": {
    "execution": {
     "iopub.execute_input": "2024-06-17T11:55:45.701090Z",
     "iopub.status.busy": "2024-06-17T11:55:45.700728Z",
     "iopub.status.idle": "2024-06-17T11:55:59.354397Z",
     "shell.execute_reply": "2024-06-17T11:55:59.353209Z"
    },
    "papermill": {
     "duration": 13.677116,
     "end_time": "2024-06-17T11:55:59.357155",
     "exception": false,
     "start_time": "2024-06-17T11:55:45.680039",
     "status": "completed"
    },
    "tags": []
   },
   "outputs": [
    {
     "name": "stderr",
     "output_type": "stream",
     "text": [
      "2024-06-17 11:55:47.931438: E external/local_xla/xla/stream_executor/cuda/cuda_dnn.cc:9261] Unable to register cuDNN factory: Attempting to register factory for plugin cuDNN when one has already been registered\n",
      "2024-06-17 11:55:47.931588: E external/local_xla/xla/stream_executor/cuda/cuda_fft.cc:607] Unable to register cuFFT factory: Attempting to register factory for plugin cuFFT when one has already been registered\n",
      "2024-06-17 11:55:48.102113: E external/local_xla/xla/stream_executor/cuda/cuda_blas.cc:1515] Unable to register cuBLAS factory: Attempting to register factory for plugin cuBLAS when one has already been registered\n"
     ]
    }
   ],
   "source": [
    "# Bibliotecas\n",
    "from tensorflow.keras.models import Sequential\n",
    "from tensorflow.keras.layers import Dense, Dropout\n",
    "from tensorflow.keras.utils import to_categorical\n",
    "from tensorflow.keras.optimizers import Adam\n",
    "from tensorflow.keras.callbacks import ReduceLROnPlateau, EarlyStopping\n",
    "from tensorflow.keras.regularizers import l1_l2\n",
    "from sklearn.metrics import classification_report, confusion_matrix, accuracy_score\n",
    "from sklearn.model_selection import train_test_split\n",
    "from sklearn.preprocessing import MinMaxScaler\n",
    "\n",
    "# Separa X e y de treinamento (70%) validação (10%) e teste (20%)\n",
    "X_train, X_temp, y_train, y_temp = train_test_split(X, y, test_size=0.3, random_state=42)\n",
    "X_val, X_test, y_val, y_test = train_test_split(X_temp, y_temp, test_size=2/3, random_state=42)"
   ]
  },
  {
   "cell_type": "code",
   "execution_count": 1,
   "id": "59233bb3",
   "metadata": {},
   "outputs": [
    {
     "ename": "NameError",
     "evalue": "name 'train_test_split' is not defined",
     "output_type": "error",
     "traceback": [
      "\u001b[0;31m---------------------------------------------------------------------------\u001b[0m",
      "\u001b[0;31mNameError\u001b[0m                                 Traceback (most recent call last)",
      "Cell \u001b[0;32mIn[1], line 2\u001b[0m\n\u001b[1;32m      1\u001b[0m \u001b[38;5;66;03m# Separa X e y de treinamento (70%) validação (10%) e teste (20%)\u001b[39;00m\n\u001b[0;32m----> 2\u001b[0m X_train, X_temp, y_train, y_temp \u001b[38;5;241m=\u001b[39m \u001b[43mtrain_test_split\u001b[49m(X, y, test_size\u001b[38;5;241m=\u001b[39m\u001b[38;5;241m0.3\u001b[39m, random_state\u001b[38;5;241m=\u001b[39m\u001b[38;5;241m42\u001b[39m)\n\u001b[1;32m      3\u001b[0m X_val, X_test, y_val, y_test \u001b[38;5;241m=\u001b[39m train_test_split(X_temp, y_temp, test_size\u001b[38;5;241m=\u001b[39m\u001b[38;5;241m2\u001b[39m\u001b[38;5;241m/\u001b[39m\u001b[38;5;241m3\u001b[39m, random_state\u001b[38;5;241m=\u001b[39m\u001b[38;5;241m42\u001b[39m)\n",
      "\u001b[0;31mNameError\u001b[0m: name 'train_test_split' is not defined"
     ]
    }
   ],
   "source": [
    "\n",
    "# Separa X e y de treinamento (70%) validação (10%) e teste (20%)\n",
    "X_train, X_temp, y_train, y_temp = train_test_split(X, y, test_size=0.3, random_state=42)\n",
    "X_val, X_test, y_val, y_test = train_test_split(X_temp, y_temp, test_size=2/3, random_state=42)\n",
    "\n",
    "# Rede Neural para Classificação Binária\n",
    "def create_base_model(input_shape):\n",
    "    model = Sequential([\n",
    "       #Dense(128, activation='relu', input_shape=(input_shape,)),\n",
    "        Dense(64, activation='relu', input_shape=(input_shape,)),\n",
    "        Dense(32, activation='relu'),\n",
    "        Dense(16, activation='relu'),\n",
    "        Dense(8, activation='relu'),\n",
    "        Dense(1, activation='sigmoid')\n",
    "    ])\n",
    "    return model\n",
    "\n",
    "# Função para criar o modelo com L1 e L2 (Elastic Net)\n",
    "def create_l1_l2_model(input_shape):\n",
    "    model = Sequential([\n",
    "        #Dense(128, activation='relu', input_shape=(input_shape,)),\n",
    "        Dense(64, activation='relu', input_shape=(input_shape,)),\n",
    "        Dense(32, activation='relu', kernel_regularizer=l1_l2(l1=0.01, l2=0.01)),\n",
    "        Dense(16, activation='relu', kernel_regularizer=l1_l2(l1=0.01, l2=0.01)),\n",
    "        Dense(8, activation='relu', kernel_regularizer=l1_l2(l1=0.01, l2=0.01)),\n",
    "        Dense(1, activation='sigmoid')\n",
    "    ])\n",
    "    return model\n",
    "\n",
    "# Função para criar o modelo com Dropout\n",
    "def create_dropout_model(input_shape):\n",
    "    model = Sequential([\n",
    "       #Dense(128, activation='relu', input_shape=(input_shape,)),\n",
    "        Dense(64, activation='relu', input_shape=(input_shape,)),\n",
    "        Dropout(0.2),\n",
    "        Dense(32, activation='relu'),\n",
    "        Dropout(0.2),\n",
    "        Dense(16, activation='relu'),\n",
    "        Dense(8, activation='relu'),\n",
    "        Dense(1, activation='sigmoid')\n",
    "    ])\n",
    "    return model\n",
    "\n",
    "# Função para criar o modelo com L1, L2 e Dropout\n",
    "def create_l1_l2_dropout_model(input_shape):\n",
    "    model = Sequential([\n",
    "       #Dense(128, activation='relu', input_shape=(input_shape,)),\n",
    "        Dense(64, activation='relu', input_shape=(input_shape,)),\n",
    "        Dropout(0.2),\n",
    "        Dense(32, activation='relu', kernel_regularizer=l1_l2(l1=0.01, l2=0.01)),\n",
    "        Dropout(0.2),\n",
    "        Dense(16, activation='relu', kernel_regularizer=l1_l2(l1=0.01, l2=0.01)),\n",
    "        Dense(8, activation='relu', kernel_regularizer=l1_l2(l1=0.01, l2=0.01)),\n",
    "        Dense(1, activation='sigmoid')\n",
    "    ])\n",
    "    return model\n",
    "\n",
    "# Inicia com uma forma de entrada específica\n",
    "input_shape = X_train.shape[1]\n",
    "\n",
    "# Criar, compilar e treinar os modelos\n",
    "model_base = create_base_model(input_shape)\n",
    "model_l1_l2 = create_l1_l2_model(input_shape)\n",
    "model_dropout = create_dropout_model(input_shape)\n",
    "model_l1_l2_dropout = create_l1_l2_dropout_model(input_shape)\n",
    "\n",
    "# Compilando e treinando os modelos\n",
    "optimizer1 = Adam(learning_rate=0.001)\n",
    "optimizer2 = Adam(learning_rate=0.001)\n",
    "optimizer3 = Adam(learning_rate=0.001)\n",
    "optimizer4 = Adam(learning_rate=0.001)\n",
    "\n",
    "model_base.compile(optimizer=optimizer1, loss='binary_crossentropy', metrics=['accuracy'] )\n",
    "history_base = model_base.fit(X_train, y_train, epochs=150, batch_size=32, validation_data=(X_val, y_val), verbose=0)\n",
    "\n",
    "model_l1_l2.compile(optimizer=optimizer2, loss='binary_crossentropy', metrics=['accuracy'])\n",
    "history_l1_l2 = model_l1_l2.fit(X_train, y_train, epochs=150, batch_size=32, validation_data=(X_val, y_val), verbose=0)\n",
    "\n",
    "model_dropout.compile(optimizer=optimizer3, loss='binary_crossentropy', metrics=['accuracy'])\n",
    "history_dropout = model_dropout.fit(X_train, y_train, epochs=150, batch_size=32, validation_data=(X_val, y_val), verbose=0)\n",
    "\n",
    "model_l1_l2_dropout.compile(optimizer=optimizer4, loss='binary_crossentropy', metrics=['accuracy'])\n",
    "history_l1_l2_dropout = model_l1_l2_dropout.fit(X_train, y_train, epochs=150, batch_size=32, validation_data=(X_val, y_val), verbose=0)\n",
    "\n",
    "\n",
    "\n",
    "# Fazendo as previsões\n",
    "y_pred_base = model_base.predict(X_test).flatten()\n",
    "y_pred_l1_l2 = model_l1_l2.predict(X_test).flatten()\n",
    "y_pred_dropout = model_dropout.predict(X_test).flatten()\n",
    "y_pred_l1_l2_dropout = model_l1_l2_dropout.predict(X_test).flatten()\n",
    "\n",
    "\n",
    "\n",
    "\n",
    "# Função para converter os resultados da variável y_pred_base para 0 e 1\n",
    "def converter_pred(y_pred):\n",
    "    converter_pred = [1 if pred > 0.5 else 0 for pred in y_pred]\n",
    "    return converter_pred\n",
    "\n",
    "# Previsões dos modelos\n",
    "y_pred_base = converter_pred(y_pred_base)\n",
    "y_pred_l1_l2 = converter_pred(y_pred_l1_l2)\n",
    "y_pred_dropout = converter_pred(y_pred_dropout)\n",
    "y_pred_l1_l2_dropout = converter_pred(y_pred_l1_l2_dropout)\n",
    "\n",
    "\n",
    "from sklearn.svm import SVC\n",
    "modelo_svm = SVC()\n",
    "\n",
    "# Treinar o modelo SVM\n",
    "modelo_svm.fit(X_train, y_train)\n",
    "\n",
    "# Fazer previsões no conjunto de teste\n",
    "y_pred_svm = modelo_svm.predict(X_test)\n",
    "\n",
    "# Avaliar o desempenho do modelo\n",
    "acuracia_svm = accuracy_score(y_test, y_pred_svm)\n",
    "\n",
    "\n",
    "acuracia_base = accuracy_score(y_test, y_pred_base)\n",
    "acuracia_l1_l2 = accuracy_score(y_test, y_pred_l1_l2)\n",
    "acuracia_dropout = accuracy_score(y_test, y_pred_dropout)\n",
    "acuracia_l1_l2_dropout = accuracy_score(y_test, y_pred_l1_l2_dropout)\n",
    "\n",
    "\n",
    "# Plotando os resultados\n",
    "labels = ['Base', 'L1_L2', 'Dropout', 'L1_L2_Dropout', 'SVM' ]\n",
    "values = [acuracia_base, acuracia_l1_l2, acuracia_dropout, acuracia_l1_l2_dropout, acuracia_svm]\n",
    "\n",
    "plt.figure(figsize=(10, 6))\n",
    "plt.bar(labels, values, color=['blue', 'green', 'red', 'purple', 'orange'])\n",
    "plt.xlabel('Modelos')\n",
    "plt.ylabel('Acurácia')\n",
    "plt.title('Comparação da Acurácia entre Modelos')\n",
    "plt.show()"
   ]
  },
  {
   "cell_type": "code",
   "execution_count": null,
   "id": "46d6f48a",
   "metadata": {
    "execution": {
     "iopub.execute_input": "2024-06-17T11:55:59.398772Z",
     "iopub.status.busy": "2024-06-17T11:55:59.398112Z",
     "iopub.status.idle": "2024-06-17T11:55:59.410393Z",
     "shell.execute_reply": "2024-06-17T11:55:59.409186Z"
    },
    "papermill": {
     "duration": 0.035685,
     "end_time": "2024-06-17T11:55:59.412750",
     "exception": false,
     "start_time": "2024-06-17T11:55:59.377065",
     "status": "completed"
    },
    "tags": []
   },
   "outputs": [],
   "source": [
    "# Rede Neural para Classificação Binária\n",
    "def create_base_model(input_shape):\n",
    "    model = Sequential([\n",
    "       #Dense(128, activation='relu', input_shape=(input_shape,)),\n",
    "        Dense(64, activation='relu', input_shape=(input_shape,)),\n",
    "        Dense(32, activation='relu'),\n",
    "        Dense(16, activation='relu'),\n",
    "        Dense(8, activation='relu'),\n",
    "        Dense(1, activation='sigmoid')\n",
    "    ])\n",
    "    return model\n",
    "\n",
    "# Função para criar o modelo com L1 e L2 (Elastic Net)\n",
    "def create_l1_l2_model(input_shape):\n",
    "    model = Sequential([\n",
    "        #Dense(128, activation='relu', input_shape=(input_shape,)),\n",
    "        Dense(64, activation='relu', input_shape=(input_shape,)),\n",
    "        Dense(32, activation='relu', kernel_regularizer=l1_l2(l1=0.01, l2=0.01)),\n",
    "        Dense(16, activation='relu', kernel_regularizer=l1_l2(l1=0.01, l2=0.01)),\n",
    "        Dense(8, activation='relu', kernel_regularizer=l1_l2(l1=0.01, l2=0.01)),\n",
    "        Dense(1, activation='sigmoid')\n",
    "    ])\n",
    "    return model\n",
    "\n",
    "# Função para criar o modelo com Dropout\n",
    "def create_dropout_model(input_shape):\n",
    "    model = Sequential([\n",
    "       #Dense(128, activation='relu', input_shape=(input_shape,)),\n",
    "        Dense(64, activation='relu', input_shape=(input_shape,)),\n",
    "        Dropout(0.2),\n",
    "        Dense(32, activation='relu'),\n",
    "        Dropout(0.2),\n",
    "        Dense(16, activation='relu'),\n",
    "        Dense(8, activation='relu'),\n",
    "        Dense(1, activation='sigmoid')\n",
    "    ])\n",
    "    return model\n",
    "\n",
    "# Função para criar o modelo com L1, L2 e Dropout\n",
    "def create_l1_l2_dropout_model(input_shape):\n",
    "    model = Sequential([\n",
    "       #Dense(128, activation='relu', input_shape=(input_shape,)),\n",
    "        Dense(64, activation='relu', input_shape=(input_shape,)),\n",
    "        Dropout(0.2),\n",
    "        Dense(32, activation='relu', kernel_regularizer=l1_l2(l1=0.01, l2=0.01)),\n",
    "        Dropout(0.2),\n",
    "        Dense(16, activation='relu', kernel_regularizer=l1_l2(l1=0.01, l2=0.01)),\n",
    "        Dense(8, activation='relu', kernel_regularizer=l1_l2(l1=0.01, l2=0.01)),\n",
    "        Dense(1, activation='sigmoid')\n",
    "    ])\n",
    "    return model"
   ]
  },
  {
   "cell_type": "code",
   "execution_count": 50,
   "id": "bac9a1df",
   "metadata": {
    "execution": {
     "iopub.execute_input": "2024-06-17T11:55:59.453958Z",
     "iopub.status.busy": "2024-06-17T11:55:59.453600Z",
     "iopub.status.idle": "2024-06-17T11:58:20.976042Z",
     "shell.execute_reply": "2024-06-17T11:58:20.974735Z"
    },
    "papermill": {
     "duration": 141.546222,
     "end_time": "2024-06-17T11:58:20.978865",
     "exception": false,
     "start_time": "2024-06-17T11:55:59.432643",
     "status": "completed"
    },
    "tags": []
   },
   "outputs": [
    {
     "name": "stderr",
     "output_type": "stream",
     "text": [
      "/opt/conda/lib/python3.10/site-packages/keras/src/layers/core/dense.py:87: UserWarning: Do not pass an `input_shape`/`input_dim` argument to a layer. When using Sequential models, prefer using an `Input(shape)` object as the first layer in the model instead.\n",
      "  super().__init__(activity_regularizer=activity_regularizer, **kwargs)\n"
     ]
    }
   ],
   "source": [
    "# Inicia com uma forma de entrada específica\n",
    "input_shape = X_train.shape[1]\n",
    "\n",
    "# Criar, compilar e treinar os modelos\n",
    "model_base = create_base_model(input_shape)\n",
    "model_l1_l2 = create_l1_l2_model(input_shape)\n",
    "model_dropout = create_dropout_model(input_shape)\n",
    "model_l1_l2_dropout = create_l1_l2_dropout_model(input_shape)\n",
    "\n",
    "# Compilando e treinando os modelos\n",
    "optimizer1 = Adam(learning_rate=0.001)\n",
    "optimizer2 = Adam(learning_rate=0.001)\n",
    "optimizer3 = Adam(learning_rate=0.001)\n",
    "optimizer4 = Adam(learning_rate=0.001)\n",
    "\n",
    "model_base.compile(optimizer=optimizer1, loss='binary_crossentropy', metrics=['accuracy'] )\n",
    "history_base = model_base.fit(X_train, y_train, epochs=150, batch_size=32, validation_data=(X_val, y_val), verbose=0)\n",
    "\n",
    "model_l1_l2.compile(optimizer=optimizer2, loss='binary_crossentropy', metrics=['accuracy'])\n",
    "history_l1_l2 = model_l1_l2.fit(X_train, y_train, epochs=150, batch_size=32, validation_data=(X_val, y_val), verbose=0)\n",
    "\n",
    "model_dropout.compile(optimizer=optimizer3, loss='binary_crossentropy', metrics=['accuracy'])\n",
    "history_dropout = model_dropout.fit(X_train, y_train, epochs=150, batch_size=32, validation_data=(X_val, y_val), verbose=0)\n",
    "\n",
    "model_l1_l2_dropout.compile(optimizer=optimizer4, loss='binary_crossentropy', metrics=['accuracy'])\n",
    "history_l1_l2_dropout = model_l1_l2_dropout.fit(X_train, y_train, epochs=150, batch_size=32, validation_data=(X_val, y_val), verbose=0)"
   ]
  },
  {
   "cell_type": "code",
   "execution_count": 51,
   "id": "f981f2cd",
   "metadata": {
    "execution": {
     "iopub.execute_input": "2024-06-17T11:58:21.020607Z",
     "iopub.status.busy": "2024-06-17T11:58:21.020184Z",
     "iopub.status.idle": "2024-06-17T11:58:21.892638Z",
     "shell.execute_reply": "2024-06-17T11:58:21.891335Z"
    },
    "papermill": {
     "duration": 0.896317,
     "end_time": "2024-06-17T11:58:21.895351",
     "exception": false,
     "start_time": "2024-06-17T11:58:20.999034",
     "status": "completed"
    },
    "tags": []
   },
   "outputs": [
    {
     "name": "stdout",
     "output_type": "stream",
     "text": [
      "\u001b[1m30/30\u001b[0m \u001b[32m━━━━━━━━━━━━━━━━━━━━\u001b[0m\u001b[37m\u001b[0m \u001b[1m0s\u001b[0m 3ms/step\n",
      "\u001b[1m30/30\u001b[0m \u001b[32m━━━━━━━━━━━━━━━━━━━━\u001b[0m\u001b[37m\u001b[0m \u001b[1m0s\u001b[0m 3ms/step\n",
      "\u001b[1m30/30\u001b[0m \u001b[32m━━━━━━━━━━━━━━━━━━━━\u001b[0m\u001b[37m\u001b[0m \u001b[1m0s\u001b[0m 3ms/step\n",
      "\u001b[1m30/30\u001b[0m \u001b[32m━━━━━━━━━━━━━━━━━━━━\u001b[0m\u001b[37m\u001b[0m \u001b[1m0s\u001b[0m 3ms/step\n"
     ]
    }
   ],
   "source": [
    "# Fazendo as previsões\n",
    "y_pred_base = model_base.predict(X_test).flatten()\n",
    "y_pred_l1_l2 = model_l1_l2.predict(X_test).flatten()\n",
    "y_pred_dropout = model_dropout.predict(X_test).flatten()\n",
    "y_pred_l1_l2_dropout = model_l1_l2_dropout.predict(X_test).flatten()"
   ]
  },
  {
   "cell_type": "code",
   "execution_count": 52,
   "id": "c2c15b2a",
   "metadata": {
    "execution": {
     "iopub.execute_input": "2024-06-17T11:58:21.939504Z",
     "iopub.status.busy": "2024-06-17T11:58:21.939092Z",
     "iopub.status.idle": "2024-06-17T11:58:21.944487Z",
     "shell.execute_reply": "2024-06-17T11:58:21.943309Z"
    },
    "papermill": {
     "duration": 0.02979,
     "end_time": "2024-06-17T11:58:21.946749",
     "exception": false,
     "start_time": "2024-06-17T11:58:21.916959",
     "status": "completed"
    },
    "tags": []
   },
   "outputs": [],
   "source": [
    "# Função para converter os resultados da variável y_pred_base para 0 e 1\n",
    "def converter_pred(y_pred):\n",
    "    converter_pred = [1 if pred > 0.5 else 0 for pred in y_pred]\n",
    "    return converter_pred"
   ]
  },
  {
   "cell_type": "code",
   "execution_count": 53,
   "id": "744f282a",
   "metadata": {
    "execution": {
     "iopub.execute_input": "2024-06-17T11:58:21.990467Z",
     "iopub.status.busy": "2024-06-17T11:58:21.990081Z",
     "iopub.status.idle": "2024-06-17T11:58:22.003024Z",
     "shell.execute_reply": "2024-06-17T11:58:22.001827Z"
    },
    "papermill": {
     "duration": 0.037456,
     "end_time": "2024-06-17T11:58:22.005512",
     "exception": false,
     "start_time": "2024-06-17T11:58:21.968056",
     "status": "completed"
    },
    "tags": []
   },
   "outputs": [],
   "source": [
    "# Previsões dos modelos\n",
    "y_pred_base = converter_pred(y_pred_base)\n",
    "y_pred_l1_l2 = converter_pred(y_pred_l1_l2)\n",
    "y_pred_dropout = converter_pred(y_pred_dropout)\n",
    "y_pred_l1_l2_dropout = converter_pred(y_pred_l1_l2_dropout)"
   ]
  },
  {
   "cell_type": "code",
   "execution_count": 54,
   "id": "e4319bac",
   "metadata": {
    "execution": {
     "iopub.execute_input": "2024-06-17T11:58:22.049075Z",
     "iopub.status.busy": "2024-06-17T11:58:22.048724Z",
     "iopub.status.idle": "2024-06-17T11:58:22.579566Z",
     "shell.execute_reply": "2024-06-17T11:58:22.578458Z"
    },
    "papermill": {
     "duration": 0.555647,
     "end_time": "2024-06-17T11:58:22.582173",
     "exception": false,
     "start_time": "2024-06-17T11:58:22.026526",
     "status": "completed"
    },
    "tags": []
   },
   "outputs": [
    {
     "name": "stderr",
     "output_type": "stream",
     "text": [
      "/opt/conda/lib/python3.10/site-packages/sklearn/utils/validation.py:1143: DataConversionWarning: A column-vector y was passed when a 1d array was expected. Please change the shape of y to (n_samples, ), for example using ravel().\n",
      "  y = column_or_1d(y, warn=True)\n"
     ]
    }
   ],
   "source": [
    "from sklearn.svm import SVC\n",
    "modelo_svm = SVC()\n",
    "\n",
    "# Treinar o modelo SVM\n",
    "modelo_svm.fit(X_train, y_train)\n",
    "\n",
    "# Fazer previsões no conjunto de teste\n",
    "y_pred_svm = modelo_svm.predict(X_test)\n",
    "\n",
    "# Avaliar o desempenho do modelo\n",
    "acuracia_svm = accuracy_score(y_test, y_pred_svm)"
   ]
  },
  {
   "cell_type": "code",
   "execution_count": 55,
   "id": "9bc89aa0",
   "metadata": {
    "execution": {
     "iopub.execute_input": "2024-06-17T11:58:22.626486Z",
     "iopub.status.busy": "2024-06-17T11:58:22.626068Z",
     "iopub.status.idle": "2024-06-17T11:58:22.637353Z",
     "shell.execute_reply": "2024-06-17T11:58:22.636293Z"
    },
    "papermill": {
     "duration": 0.036875,
     "end_time": "2024-06-17T11:58:22.639839",
     "exception": false,
     "start_time": "2024-06-17T11:58:22.602964",
     "status": "completed"
    },
    "tags": []
   },
   "outputs": [],
   "source": [
    "acuracia_base = accuracy_score(y_test, y_pred_base)\n",
    "acuracia_l1_l2 = accuracy_score(y_test, y_pred_l1_l2)\n",
    "acuracia_dropout = accuracy_score(y_test, y_pred_dropout)\n",
    "acuracia_l1_l2_dropout = accuracy_score(y_test, y_pred_l1_l2_dropout)"
   ]
  },
  {
   "cell_type": "code",
   "execution_count": 56,
   "id": "d94c0929",
   "metadata": {
    "execution": {
     "iopub.execute_input": "2024-06-17T11:58:22.684538Z",
     "iopub.status.busy": "2024-06-17T11:58:22.683377Z",
     "iopub.status.idle": "2024-06-17T11:58:22.913548Z",
     "shell.execute_reply": "2024-06-17T11:58:22.912165Z"
    },
    "papermill": {
     "duration": 0.255035,
     "end_time": "2024-06-17T11:58:22.915982",
     "exception": false,
     "start_time": "2024-06-17T11:58:22.660947",
     "status": "completed"
    },
    "tags": []
   },
   "outputs": [
    {
     "data": {
      "image/png": "[encoded data removed]",
      "text/plain": [
       "<Figure size 1000x600 with 1 Axes>"
      ]
     },
     "metadata": {},
     "output_type": "display_data"
    }
   ],
   "source": [
    "# Plotando os resultados\n",
    "labels = ['Base', 'L1_L2', 'Dropout', 'L1_L2_Dropout', 'SVM' ]\n",
    "values = [acuracia_base, acuracia_l1_l2, acuracia_dropout, acuracia_l1_l2_dropout, acuracia_svm]\n",
    "\n",
    "plt.figure(figsize=(10, 6))\n",
    "plt.bar(labels, values, color=['blue', 'green', 'red', 'purple', 'orange'])\n",
    "plt.xlabel('Modelos')\n",
    "plt.ylabel('Acurácia')\n",
    "plt.title('Comparação da Acurácia entre Modelos')\n",
    "plt.show()"
   ]
  },
  {
   "cell_type": "code",
   "execution_count": 57,
   "id": "0f3e74f4",
   "metadata": {
    "execution": {
     "iopub.execute_input": "2024-06-17T11:58:22.960857Z",
     "iopub.status.busy": "2024-06-17T11:58:22.960491Z",
     "iopub.status.idle": "2024-06-17T11:58:23.627431Z",
     "shell.execute_reply": "2024-06-17T11:58:23.626203Z"
    },
    "papermill": {
     "duration": 0.692105,
     "end_time": "2024-06-17T11:58:23.629798",
     "exception": false,
     "start_time": "2024-06-17T11:58:22.937693",
     "status": "completed"
    },
    "tags": []
   },
   "outputs": [
    {
     "data": {
      "image/png": "[encoded data removed]",
      "text/plain": [
       "<Figure size 1200x600 with 2 Axes>"
      ]
     },
     "metadata": {},
     "output_type": "display_data"
    }
   ],
   "source": [
    "# Acessando os dados de histórico\n",
    "acc = history_l1_l2_dropout.history['accuracy']\n",
    "val_acc = history_l1_l2_dropout.history['val_accuracy']\n",
    "loss = history_l1_l2_dropout.history['loss']\n",
    "val_loss = history_l1_l2_dropout.history['val_loss']\n",
    "\n",
    "epochs = range(1, len(acc) + 1)\n",
    "\n",
    "plt.figure(figsize=(12, 6))\n",
    "\n",
    "# Plotando a acurácia de treinamento e validação\n",
    "plt.subplot(1, 2, 1)\n",
    "plt.plot(epochs, acc, 'bo', label='Training accuracy')\n",
    "plt.plot(epochs, val_acc, 'b', label='Validation accuracy')\n",
    "plt.title('Training and Validation Accuracy')\n",
    "plt.xlabel('Epochs')\n",
    "plt.ylabel('Accuracy')\n",
    "plt.legend()\n",
    "\n",
    "# Plotando o loss de treinamento e validação\n",
    "plt.subplot(1, 2, 2)\n",
    "plt.plot(epochs, loss, 'ro', label='Training loss')\n",
    "plt.plot(epochs, val_loss, 'r', label='Validation loss')\n",
    "plt.title('Training and Validation Loss')\n",
    "plt.xlabel('Epochs')\n",
    "plt.ylabel('Loss')\n",
    "plt.legend()\n",
    "\n",
    "plt.tight_layout()\n",
    "plt.show()"
   ]
  },
  {
   "cell_type": "code",
   "execution_count": 58,
   "id": "e084babd",
   "metadata": {
    "execution": {
     "iopub.execute_input": "2024-06-17T11:58:23.677700Z",
     "iopub.status.busy": "2024-06-17T11:58:23.677286Z",
     "iopub.status.idle": "2024-06-17T11:58:23.783969Z",
     "shell.execute_reply": "2024-06-17T11:58:23.782837Z"
    },
    "papermill": {
     "duration": 0.13411,
     "end_time": "2024-06-17T11:58:23.786685",
     "exception": false,
     "start_time": "2024-06-17T11:58:23.652575",
     "status": "completed"
    },
    "tags": []
   },
   "outputs": [
    {
     "name": "stdout",
     "output_type": "stream",
     "text": [
      "\u001b[1m15/15\u001b[0m \u001b[32m━━━━━━━━━━━━━━━━━━━━\u001b[0m\u001b[37m\u001b[0m \u001b[1m0s\u001b[0m 1ms/step \n"
     ]
    }
   ],
   "source": [
    "from sklearn.metrics import roc_curve, auc\n",
    "# Prever probabilidades para o conjunto de validação\n",
    "y_val_prob = model_l1_l2_dropout.predict(X_val).ravel()\n",
    "\n",
    "# Calcular a curva ROC\n",
    "fpr, tpr, thresholds = roc_curve(y_val, y_val_prob)\n",
    "roc_auc = auc(fpr, tpr)"
   ]
  },
  {
   "cell_type": "code",
   "execution_count": 59,
   "id": "700f12fc",
   "metadata": {
    "execution": {
     "iopub.execute_input": "2024-06-17T11:58:23.834887Z",
     "iopub.status.busy": "2024-06-17T11:58:23.834512Z",
     "iopub.status.idle": "2024-06-17T11:58:24.138036Z",
     "shell.execute_reply": "2024-06-17T11:58:24.136862Z"
    },
    "papermill": {
     "duration": 0.329756,
     "end_time": "2024-06-17T11:58:24.140247",
     "exception": false,
     "start_time": "2024-06-17T11:58:23.810491",
     "status": "completed"
    },
    "tags": []
   },
   "outputs": [
    {
     "data": {
      "image/png": "[encoded data removed]",
      "text/plain": [
       "<Figure size 1000x800 with 1 Axes>"
      ]
     },
     "metadata": {},
     "output_type": "display_data"
    }
   ],
   "source": [
    "plt.figure(figsize=(10, 8))\n",
    "\n",
    "# Plotar a curva ROC\n",
    "plt.plot(fpr, tpr, color='darkorange', lw=2, label=f'Curva ROC (AUC = {roc_auc:.2f})')\n",
    "plt.plot([0, 1], [0, 1], color='navy', lw=2, linestyle='--')\n",
    "\n",
    "plt.xlim([0.0, 1.0])\n",
    "plt.ylim([0.0, 1.05])\n",
    "plt.xlabel('Taxa de Falsos Positivos')\n",
    "plt.ylabel('Taxa de Verdadeiros Positivos')\n",
    "plt.title('Curva ROC')\n",
    "plt.legend(loc='lower right')\n",
    "plt.grid()\n",
    "\n",
    "plt.show()"
   ]
  },
  {
   "cell_type": "code",
   "execution_count": 60,
   "id": "ef6f0716",
   "metadata": {
    "execution": {
     "iopub.execute_input": "2024-06-17T11:58:24.189389Z",
     "iopub.status.busy": "2024-06-17T11:58:24.188976Z",
     "iopub.status.idle": "2024-06-17T11:58:24.419825Z",
     "shell.execute_reply": "2024-06-17T11:58:24.418442Z"
    },
    "papermill": {
     "duration": 0.258434,
     "end_time": "2024-06-17T11:58:24.422464",
     "exception": false,
     "start_time": "2024-06-17T11:58:24.164030",
     "status": "completed"
    },
    "tags": []
   },
   "outputs": [
    {
     "data": {
      "image/png": "[encoded data removed]",
      "text/plain": [
       "<Figure size 640x480 with 2 Axes>"
      ]
     },
     "metadata": {},
     "output_type": "display_data"
    }
   ],
   "source": [
    "from sklearn.metrics import confusion_matrix\n",
    "# Prever classes para o conjunto de validação\n",
    "y_val_pred = (y_val_prob > 0.5).astype(int)\n",
    "\n",
    "# Calcular a matriz de confusão\n",
    "cm = confusion_matrix(y_val, y_val_pred)\n",
    "\n",
    "# Plotar a matriz de confusão usando seaborn\n",
    "sns.heatmap(cm, annot=True, fmt='d', cmap='Blues')\n",
    "plt.xlabel('Predito')\n",
    "plt.ylabel('Verdadeiro')\n",
    "plt.title('Matriz de Confusão')\n",
    "plt.show()"
   ]
  },
  {
   "cell_type": "code",
   "execution_count": 61,
   "id": "c302743f",
   "metadata": {
    "execution": {
     "iopub.execute_input": "2024-06-17T11:58:24.473280Z",
     "iopub.status.busy": "2024-06-17T11:58:24.472851Z",
     "iopub.status.idle": "2024-06-17T11:58:24.486810Z",
     "shell.execute_reply": "2024-06-17T11:58:24.485733Z"
    },
    "papermill": {
     "duration": 0.042579,
     "end_time": "2024-06-17T11:58:24.489305",
     "exception": false,
     "start_time": "2024-06-17T11:58:24.446726",
     "status": "completed"
    },
    "tags": []
   },
   "outputs": [
    {
     "name": "stdout",
     "output_type": "stream",
     "text": [
      "Relatório de Classificação:\n",
      "                 precision    recall  f1-score   support\n",
      "\n",
      "Classe Negativa       0.86      0.91      0.88       350\n",
      "Classe Positiva       0.69      0.59      0.63       123\n",
      "\n",
      "       accuracy                           0.82       473\n",
      "      macro avg       0.77      0.75      0.76       473\n",
      "   weighted avg       0.82      0.82      0.82       473\n",
      "\n"
     ]
    }
   ],
   "source": [
    "# Definir rótulos das classes\n",
    "class_names = ['Classe Negativa', 'Classe Positiva']\n",
    "# Imprimir o classification report\n",
    "print(\"Relatório de Classificação:\")\n",
    "print(classification_report(y_val, y_val_pred, target_names=class_names))"
   ]
  },
  {
   "cell_type": "markdown",
   "id": "fa29fd37",
   "metadata": {
    "papermill": {
     "duration": 0.024428,
     "end_time": "2024-06-17T11:58:24.538039",
     "exception": false,
     "start_time": "2024-06-17T11:58:24.513611",
     "status": "completed"
    },
    "tags": []
   },
   "source": [
    "# Classe Negativa:\n",
    "\n",
    "## **Precision (Precisão): 0.87**\n",
    "\n",
    "## **Recall (Revocação): 0.89**\n",
    "\n",
    "## **F1-score: 0.88**\n",
    "\n",
    "Para a classe negativa, o modelo apresenta uma precisão de 0.87, o que significa que, quando ele prediz que uma instância é da classe negativa, ele está correto em 87% das vezes. O recall de 0.89 indica que o modelo consegue identificar corretamente 89% das instâncias que realmente são da classe negativa. O F1-score de 0.88 é uma média harmônica entre precisão e recall, refletindo um bom equilíbrio entre essas métricas para a classe negativa.\n"
   ]
  },
  {
   "cell_type": "markdown",
   "id": "1c45fd80",
   "metadata": {
    "papermill": {
     "duration": 0.025135,
     "end_time": "2024-06-17T11:58:24.587795",
     "exception": false,
     "start_time": "2024-06-17T11:58:24.562660",
     "status": "completed"
    },
    "tags": []
   },
   "source": [
    "# Classe Positiva:\n",
    "\n",
    "## **Precision (Precisão): 0.65**\n",
    "\n",
    "## **Recall (Revocação): 0.61**\n",
    "\n",
    "## **F1-score: 0.63**\n",
    "\n",
    "Para a classe positiva, o modelo apresenta uma precisão de 0.65, indicando que, quando prediz que uma instância é da classe positiva, ele está correto em 65% das vezes. O recall de 0.61 mostra que o modelo identifica corretamente 61% das instâncias que são realmente da classe positiva. O F1-score de 0.63, embora menor que o da classe negativa, ainda indica um equilíbrio razoável entre precisão e recall para a classe positiva"
   ]
  },
  {
   "cell_type": "markdown",
   "id": "ae6a3bb4",
   "metadata": {
    "papermill": {
     "duration": 0.024479,
     "end_time": "2024-06-17T11:58:24.636871",
     "exception": false,
     "start_time": "2024-06-17T11:58:24.612392",
     "status": "completed"
    },
    "tags": []
   },
   "source": [
    "# Conclusão\n",
    "O modelo que obteve o melhor desempenho foi a rede neural com a regularização L1 e L2 com o dropout. A partir dos gráficos e das métricas obtidas pelo modelo, ele demonstra um desempenho robusto para a classe negativa, com altas métricas de precisão e recall, indicando uma capacidade confiável de identificar instâncias que não pertencem à classe positiva. Entretanto, para a classe positiva, embora a precisão seja razoável, o recall é um pouco mais baixo, sugerindo que o modelo pode estar perdendo algumas instâncias que são realmente da classe positiva. Em resumo, enquanto o modelo é eficaz na identificação da classe negativa, há oportunidades para refinamento na detecção da classe positiva, especialmente em melhorar o recall para capturar mais instâncias positivas verdadeiras."
   ]
  },
  {
   "cell_type": "code",
   "execution_count": 62,
   "id": "fe947550",
   "metadata": {
    "execution": {
     "iopub.execute_input": "2024-06-17T11:58:24.688488Z",
     "iopub.status.busy": "2024-06-17T11:58:24.688057Z",
     "iopub.status.idle": "2024-06-17T11:58:24.695428Z",
     "shell.execute_reply": "2024-06-17T11:58:24.694326Z"
    },
    "papermill": {
     "duration": 0.035762,
     "end_time": "2024-06-17T11:58:24.697654",
     "exception": false,
     "start_time": "2024-06-17T11:58:24.661892",
     "status": "completed"
    },
    "tags": []
   },
   "outputs": [
    {
     "data": {
      "text/plain": [
       "Index(['genero', 'idoso', 'parceiro', 'dependentes', 'tempoDeServico',\n",
       "       'ServicoTelefone', 'MultiLinhas', 'ServicoInternet',\n",
       "       'ServicoSegurancaCyber', 'ServicoBackup', 'SeguroDispositivos',\n",
       "       'ServicoSuporteTecnico', 'StreamingTV', 'StreamingFilmes', 'Contrato',\n",
       "       'BillingDigital', 'MetodoPagamento', 'FaturaMensal', 'FaturaTotal',\n",
       "       'NumTickets', 'NumTicketsTecnico'],\n",
       "      dtype='object')"
      ]
     },
     "execution_count": 62,
     "metadata": {},
     "output_type": "execute_result"
    }
   ],
   "source": [
    "df_test.columns"
   ]
  },
  {
   "cell_type": "code",
   "execution_count": 63,
   "id": "205eea1b",
   "metadata": {
    "execution": {
     "iopub.execute_input": "2024-06-17T11:58:24.749319Z",
     "iopub.status.busy": "2024-06-17T11:58:24.748858Z",
     "iopub.status.idle": "2024-06-17T11:58:24.774481Z",
     "shell.execute_reply": "2024-06-17T11:58:24.773329Z"
    },
    "papermill": {
     "duration": 0.054071,
     "end_time": "2024-06-17T11:58:24.776894",
     "exception": false,
     "start_time": "2024-06-17T11:58:24.722823",
     "status": "completed"
    },
    "tags": []
   },
   "outputs": [
    {
     "data": {
      "text/plain": [
       "Index(['genero_Feminino', 'genero_Masculino', 'parceiro_Não', 'parceiro_Sim',\n",
       "       'dependentes_Não', 'dependentes_Sim', 'ServicoTelefone_Não',\n",
       "       'ServicoTelefone_Sim', 'MultiLinhas_Não', 'MultiLinhas_Sim',\n",
       "       'ServicoInternet_DSL', 'ServicoInternet_Fibra óptica',\n",
       "       'ServicoInternet_Não', 'ServicoSegurancaCyber_Não',\n",
       "       'ServicoSegurancaCyber_Sim', 'ServicoBackup_Não', 'ServicoBackup_Sim',\n",
       "       'SeguroDispositivos_Não', 'SeguroDispositivos_Sim',\n",
       "       'ServicoSuporteTecnico_Não', 'ServicoSuporteTecnico_Sim',\n",
       "       'StreamingTV_Não', 'StreamingTV_Sim', 'StreamingFilmes_Não',\n",
       "       'StreamingFilmes_Sim', 'Contrato_1 Ano', 'Contrato_2 Anos',\n",
       "       'Contrato_Mensal', 'BillingDigital_Não', 'BillingDigital_Sim',\n",
       "       'MetodoPagamento_Cartão de Crédito (Automático)',\n",
       "       'MetodoPagamento_Cheque Eletrônico', 'MetodoPagamento_Cheque por Carta',\n",
       "       'MetodoPagamento_Transferência Bancária (Automática)'],\n",
       "      dtype='object')"
      ]
     },
     "execution_count": 63,
     "metadata": {},
     "output_type": "execute_result"
    }
   ],
   "source": [
    "one_hot_encoded = pd.get_dummies(df_test[colunas_categoricas])\n",
    "one_hot_encoded.columns"
   ]
  },
  {
   "cell_type": "code",
   "execution_count": 64,
   "id": "9cff69de",
   "metadata": {
    "execution": {
     "iopub.execute_input": "2024-06-17T11:58:24.828115Z",
     "iopub.status.busy": "2024-06-17T11:58:24.827688Z",
     "iopub.status.idle": "2024-06-17T11:58:24.837097Z",
     "shell.execute_reply": "2024-06-17T11:58:24.835954Z"
    },
    "papermill": {
     "duration": 0.03799,
     "end_time": "2024-06-17T11:58:24.839660",
     "exception": false,
     "start_time": "2024-06-17T11:58:24.801670",
     "status": "completed"
    },
    "tags": []
   },
   "outputs": [],
   "source": [
    "# Concatenando o dataframe e apagando as colunas dummies\n",
    "df_test = pd.concat([df_test, one_hot_encoded], axis=1)\n",
    "df_test.drop(columns = colunas_categoricas, inplace = True)"
   ]
  },
  {
   "cell_type": "code",
   "execution_count": 65,
   "id": "d375ddf4",
   "metadata": {
    "execution": {
     "iopub.execute_input": "2024-06-17T11:58:24.890844Z",
     "iopub.status.busy": "2024-06-17T11:58:24.890398Z",
     "iopub.status.idle": "2024-06-17T11:58:24.921572Z",
     "shell.execute_reply": "2024-06-17T11:58:24.920447Z"
    },
    "papermill": {
     "duration": 0.059524,
     "end_time": "2024-06-17T11:58:24.923941",
     "exception": false,
     "start_time": "2024-06-17T11:58:24.864417",
     "status": "completed"
    },
    "tags": []
   },
   "outputs": [
    {
     "data": {
      "text/html": [
       "<div>\n",
       "<style scoped>\n",
       "    .dataframe tbody tr th:only-of-type {\n",
       "        vertical-align: middle;\n",
       "    }\n",
       "\n",
       "    .dataframe tbody tr th {\n",
       "        vertical-align: top;\n",
       "    }\n",
       "\n",
       "    .dataframe thead th {\n",
       "        text-align: right;\n",
       "    }\n",
       "</style>\n",
       "<table border=\"1\" class=\"dataframe\">\n",
       "  <thead>\n",
       "    <tr style=\"text-align: right;\">\n",
       "      <th></th>\n",
       "      <th>idoso</th>\n",
       "      <th>tempoDeServico</th>\n",
       "      <th>FaturaMensal</th>\n",
       "      <th>FaturaTotal</th>\n",
       "      <th>NumTickets</th>\n",
       "      <th>NumTicketsTecnico</th>\n",
       "      <th>genero_Feminino</th>\n",
       "      <th>genero_Masculino</th>\n",
       "      <th>parceiro_Não</th>\n",
       "      <th>parceiro_Sim</th>\n",
       "      <th>...</th>\n",
       "      <th>StreamingFilmes_Sim</th>\n",
       "      <th>Contrato_1 Ano</th>\n",
       "      <th>Contrato_2 Anos</th>\n",
       "      <th>Contrato_Mensal</th>\n",
       "      <th>BillingDigital_Não</th>\n",
       "      <th>BillingDigital_Sim</th>\n",
       "      <th>MetodoPagamento_Cartão de Crédito (Automático)</th>\n",
       "      <th>MetodoPagamento_Cheque Eletrônico</th>\n",
       "      <th>MetodoPagamento_Cheque por Carta</th>\n",
       "      <th>MetodoPagamento_Transferência Bancária (Automática)</th>\n",
       "    </tr>\n",
       "  </thead>\n",
       "  <tbody>\n",
       "    <tr>\n",
       "      <th>0</th>\n",
       "      <td>0.0</td>\n",
       "      <td>0.431138</td>\n",
       "      <td>0.478139</td>\n",
       "      <td>0.927769</td>\n",
       "      <td>0.0</td>\n",
       "      <td>0.0</td>\n",
       "      <td>True</td>\n",
       "      <td>False</td>\n",
       "      <td>False</td>\n",
       "      <td>True</td>\n",
       "      <td>...</td>\n",
       "      <td>True</td>\n",
       "      <td>False</td>\n",
       "      <td>True</td>\n",
       "      <td>False</td>\n",
       "      <td>False</td>\n",
       "      <td>True</td>\n",
       "      <td>False</td>\n",
       "      <td>False</td>\n",
       "      <td>False</td>\n",
       "      <td>True</td>\n",
       "    </tr>\n",
       "    <tr>\n",
       "      <th>1</th>\n",
       "      <td>0.0</td>\n",
       "      <td>0.431138</td>\n",
       "      <td>0.471645</td>\n",
       "      <td>0.260347</td>\n",
       "      <td>5.0</td>\n",
       "      <td>5.0</td>\n",
       "      <td>False</td>\n",
       "      <td>True</td>\n",
       "      <td>False</td>\n",
       "      <td>True</td>\n",
       "      <td>...</td>\n",
       "      <td>True</td>\n",
       "      <td>False</td>\n",
       "      <td>True</td>\n",
       "      <td>False</td>\n",
       "      <td>False</td>\n",
       "      <td>True</td>\n",
       "      <td>True</td>\n",
       "      <td>False</td>\n",
       "      <td>False</td>\n",
       "      <td>False</td>\n",
       "    </tr>\n",
       "    <tr>\n",
       "      <th>2</th>\n",
       "      <td>0.0</td>\n",
       "      <td>0.077844</td>\n",
       "      <td>0.084199</td>\n",
       "      <td>0.260347</td>\n",
       "      <td>0.0</td>\n",
       "      <td>0.0</td>\n",
       "      <td>False</td>\n",
       "      <td>True</td>\n",
       "      <td>True</td>\n",
       "      <td>False</td>\n",
       "      <td>...</td>\n",
       "      <td>False</td>\n",
       "      <td>True</td>\n",
       "      <td>False</td>\n",
       "      <td>False</td>\n",
       "      <td>True</td>\n",
       "      <td>False</td>\n",
       "      <td>False</td>\n",
       "      <td>False</td>\n",
       "      <td>True</td>\n",
       "      <td>False</td>\n",
       "    </tr>\n",
       "    <tr>\n",
       "      <th>3</th>\n",
       "      <td>0.0</td>\n",
       "      <td>0.131737</td>\n",
       "      <td>0.286147</td>\n",
       "      <td>0.508842</td>\n",
       "      <td>0.0</td>\n",
       "      <td>0.0</td>\n",
       "      <td>False</td>\n",
       "      <td>True</td>\n",
       "      <td>False</td>\n",
       "      <td>True</td>\n",
       "      <td>...</td>\n",
       "      <td>False</td>\n",
       "      <td>False</td>\n",
       "      <td>True</td>\n",
       "      <td>False</td>\n",
       "      <td>False</td>\n",
       "      <td>True</td>\n",
       "      <td>True</td>\n",
       "      <td>False</td>\n",
       "      <td>False</td>\n",
       "      <td>False</td>\n",
       "    </tr>\n",
       "    <tr>\n",
       "      <th>4</th>\n",
       "      <td>0.0</td>\n",
       "      <td>0.209581</td>\n",
       "      <td>0.343290</td>\n",
       "      <td>0.277898</td>\n",
       "      <td>0.0</td>\n",
       "      <td>1.0</td>\n",
       "      <td>True</td>\n",
       "      <td>False</td>\n",
       "      <td>True</td>\n",
       "      <td>False</td>\n",
       "      <td>...</td>\n",
       "      <td>False</td>\n",
       "      <td>True</td>\n",
       "      <td>False</td>\n",
       "      <td>False</td>\n",
       "      <td>False</td>\n",
       "      <td>True</td>\n",
       "      <td>True</td>\n",
       "      <td>False</td>\n",
       "      <td>False</td>\n",
       "      <td>False</td>\n",
       "    </tr>\n",
       "  </tbody>\n",
       "</table>\n",
       "<p>5 rows × 40 columns</p>\n",
       "</div>"
      ],
      "text/plain": [
       "   idoso  tempoDeServico  FaturaMensal  FaturaTotal  NumTickets  \\\n",
       "0    0.0        0.431138      0.478139     0.927769         0.0   \n",
       "1    0.0        0.431138      0.471645     0.260347         5.0   \n",
       "2    0.0        0.077844      0.084199     0.260347         0.0   \n",
       "3    0.0        0.131737      0.286147     0.508842         0.0   \n",
       "4    0.0        0.209581      0.343290     0.277898         0.0   \n",
       "\n",
       "   NumTicketsTecnico  genero_Feminino  genero_Masculino  parceiro_Não  \\\n",
       "0                0.0             True             False         False   \n",
       "1                5.0            False              True         False   \n",
       "2                0.0            False              True          True   \n",
       "3                0.0            False              True         False   \n",
       "4                1.0             True             False          True   \n",
       "\n",
       "   parceiro_Sim  ...  StreamingFilmes_Sim  Contrato_1 Ano  Contrato_2 Anos  \\\n",
       "0          True  ...                 True           False             True   \n",
       "1          True  ...                 True           False             True   \n",
       "2         False  ...                False            True            False   \n",
       "3          True  ...                False           False             True   \n",
       "4         False  ...                False            True            False   \n",
       "\n",
       "   Contrato_Mensal  BillingDigital_Não  BillingDigital_Sim  \\\n",
       "0            False               False                True   \n",
       "1            False               False                True   \n",
       "2            False                True               False   \n",
       "3            False               False                True   \n",
       "4            False               False                True   \n",
       "\n",
       "   MetodoPagamento_Cartão de Crédito (Automático)  \\\n",
       "0                                           False   \n",
       "1                                            True   \n",
       "2                                           False   \n",
       "3                                            True   \n",
       "4                                            True   \n",
       "\n",
       "   MetodoPagamento_Cheque Eletrônico  MetodoPagamento_Cheque por Carta  \\\n",
       "0                              False                             False   \n",
       "1                              False                             False   \n",
       "2                              False                              True   \n",
       "3                              False                             False   \n",
       "4                              False                             False   \n",
       "\n",
       "   MetodoPagamento_Transferência Bancária (Automática)  \n",
       "0                                               True    \n",
       "1                                              False    \n",
       "2                                              False    \n",
       "3                                              False    \n",
       "4                                              False    \n",
       "\n",
       "[5 rows x 40 columns]"
      ]
     },
     "execution_count": 65,
     "metadata": {},
     "output_type": "execute_result"
    }
   ],
   "source": [
    "df_test[['tempoDeServico',\t'FaturaMensal',\t'FaturaTotal']] = scaler.fit_transform(df_test[['tempoDeServico',\t'FaturaMensal',\t'FaturaTotal']])\n",
    "df_test.head()"
   ]
  },
  {
   "cell_type": "code",
   "execution_count": 66,
   "id": "bae60ebd",
   "metadata": {
    "execution": {
     "iopub.execute_input": "2024-06-17T11:58:24.975864Z",
     "iopub.status.busy": "2024-06-17T11:58:24.975486Z",
     "iopub.status.idle": "2024-06-17T11:58:25.152325Z",
     "shell.execute_reply": "2024-06-17T11:58:25.151105Z"
    },
    "papermill": {
     "duration": 0.205822,
     "end_time": "2024-06-17T11:58:25.154875",
     "exception": false,
     "start_time": "2024-06-17T11:58:24.949053",
     "status": "completed"
    },
    "tags": []
   },
   "outputs": [
    {
     "name": "stdout",
     "output_type": "stream",
     "text": [
      "\u001b[1m61/61\u001b[0m \u001b[32m━━━━━━━━━━━━━━━━━━━━\u001b[0m\u001b[37m\u001b[0m \u001b[1m0s\u001b[0m 1ms/step\n"
     ]
    }
   ],
   "source": [
    "y_test_pred = model_l1_l2_dropout.predict(df_test).flatten()\n",
    "y_test_pred = converter_pred(y_test_pred)"
   ]
  },
  {
   "cell_type": "code",
   "execution_count": 67,
   "id": "f8e745b0",
   "metadata": {
    "execution": {
     "iopub.execute_input": "2024-06-17T11:58:25.208910Z",
     "iopub.status.busy": "2024-06-17T11:58:25.207853Z",
     "iopub.status.idle": "2024-06-17T11:58:25.214652Z",
     "shell.execute_reply": "2024-06-17T11:58:25.213426Z"
    },
    "papermill": {
     "duration": 0.036373,
     "end_time": "2024-06-17T11:58:25.217050",
     "exception": false,
     "start_time": "2024-06-17T11:58:25.180677",
     "status": "completed"
    },
    "tags": []
   },
   "outputs": [],
   "source": [
    "sample_submission['Churn'] = y_test_pred"
   ]
  },
  {
   "cell_type": "code",
   "execution_count": 68,
   "id": "18fedc31",
   "metadata": {
    "execution": {
     "iopub.execute_input": "2024-06-17T11:58:25.271953Z",
     "iopub.status.busy": "2024-06-17T11:58:25.271556Z",
     "iopub.status.idle": "2024-06-17T11:58:25.281468Z",
     "shell.execute_reply": "2024-06-17T11:58:25.280446Z"
    },
    "papermill": {
     "duration": 0.0402,
     "end_time": "2024-06-17T11:58:25.283926",
     "exception": false,
     "start_time": "2024-06-17T11:58:25.243726",
     "status": "completed"
    },
    "tags": []
   },
   "outputs": [],
   "source": [
    "sample_submission.to_csv('submission.csv', index = False)"
   ]
  }
 ],
 "metadata": {
  "kaggle": {
   "accelerator": "none",
   "dataSources": [
    {
     "databundleVersionId": 8462021,
     "sourceId": 77110,
     "sourceType": "competition"
    }
   ],
   "isGpuEnabled": false,
   "isInternetEnabled": true,
   "language": "python",
   "sourceType": "notebook"
  },
  "kernelspec": {
   "display_name": "Python 3",
   "language": "python",
   "name": "python3"
  },
  "language_info": {
   "codemirror_mode": {
    "name": "ipython",
    "version": 3
   },
   "file_extension": ".py",
   "mimetype": "text/x-python",
   "name": "python",
   "nbconvert_exporter": "python",
   "pygments_lexer": "ipython3",
   "version": "3.12.2"
  },
  "papermill": {
   "default_parameters": {},
   "duration": 171.151163,
   "end_time": "2024-06-17T11:58:28.120341",
   "environment_variables": {},
   "exception": null,
   "input_path": "__notebook__.ipynb",
   "output_path": "__notebook__.ipynb",
   "parameters": {},
   "start_time": "2024-06-17T11:55:36.969178",
   "version": "2.5.0"
  }
 },
 "nbformat": 4,
 "nbformat_minor": 5
}
